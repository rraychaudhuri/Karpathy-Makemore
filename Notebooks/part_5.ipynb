{
 "cells": [
  {
   "cell_type": "markdown",
   "metadata": {},
   "source": [
    "## Network Diagonstics and Modularizing Code"
   ]
  },
  {
   "cell_type": "code",
   "execution_count": 1,
   "metadata": {},
   "outputs": [
    {
     "name": "stdout",
     "output_type": "stream",
     "text": [
      "Exception reporting mode: Plain\n",
      "e:\\Karpathy-Makemore\n"
     ]
    }
   ],
   "source": [
    "import math\n",
    "import torch\n",
    "import torch.nn.functional as F\n",
    "import matplotlib.pyplot as plt\n",
    "\n",
    "# excetions show up normally\n",
    "%xmode plain\n",
    "\n",
    "# plots show up inline\n",
    "%matplotlib inline\n",
    "\n",
    "def get_device(no_gpu=False):\n",
    "    \"\"\"\n",
    "    Returns one of cuda / mps / cpu based on availablity\n",
    "    \"\"\"\n",
    "    if no_gpu is True:\n",
    "        return torch.device(\"cpu\")\n",
    "    elif torch.cuda.is_available():\n",
    "        return torch.device(\"cuda\")\n",
    "    elif torch.backends.mps.is_available():\n",
    "        return torch.device(\"mps\")\n",
    "    else:\n",
    "        return torch.device(\"cpu\")\n",
    "\n",
    "\n",
    "# Choose the default device\n",
    "no_gpu = True\n",
    "default_device = get_device(no_gpu)\n",
    "\n",
    "\n",
    "# Needed to import modules from src\n",
    "import sys\n",
    "sys.path.append('..')\n",
    "\n",
    "\n",
    "# Get Project Root (needed for reading config)\n",
    "import os\n",
    "projectRoot = os.path.dirname(os.getcwd())\n",
    "print(projectRoot)"
   ]
  },
  {
   "cell_type": "markdown",
   "metadata": {},
   "source": [
    "#### Load Data and Associated Functions"
   ]
  },
  {
   "cell_type": "code",
   "execution_count": 2,
   "metadata": {},
   "outputs": [
    {
     "name": "stdout",
     "output_type": "stream",
     "text": [
      "Vocab Length:27\n",
      "Encode test: [5, 13, 13, 1]\tDecode test: emma\n",
      "Name Counts ==> All:32033\tTrain:25627\t Validation:3203\tTest: 3203 \n"
     ]
    }
   ],
   "source": [
    "from src.loadData import loadData\n",
    "import src.utils as utils\n",
    "\n",
    "all_data = loadData(projectRoot)\n",
    "vocab = utils.get_vocab(all_data)\n",
    "print(f\"Vocab Length:{len(vocab)}\")\n",
    "\n",
    "encode, decode = utils.get_encode_decode(vocab)\n",
    "print(f\"Encode test: {encode(\"emma\")}\\tDecode test: {decode(encode(\"emma\"))}\")\n",
    "# print(f\"Encode test: {encode(\"e\")}\\tDecode test: {decode(encode(\"e\"))}\")\n",
    "\n",
    "train_percentage = 0.8\n",
    "train_boundary = math.ceil(len(all_data) * train_percentage)\n",
    "\n",
    "cv_percentage = train_percentage + 0.1\n",
    "cv_boundary = math.ceil(len(all_data) * cv_percentage)\n",
    "\n",
    "train_data = all_data[:train_boundary]\n",
    "cv_data = all_data[train_boundary:cv_boundary]\n",
    "test_data = all_data[cv_boundary:]\n",
    "\n",
    "print(f\"Name Counts ==> All:{len(all_data)}\\tTrain:{len(train_data)}\\t Validation:{len(cv_data)}\\tTest: {len(test_data)} \")"
   ]
  },
  {
   "cell_type": "markdown",
   "metadata": {},
   "source": [
    "#### Create Samples from Data"
   ]
  },
  {
   "cell_type": "code",
   "execution_count": 3,
   "metadata": {},
   "outputs": [
    {
     "name": "stdout",
     "output_type": "stream",
     "text": [
      "Sample Sizes ==> Training:182784\tValidation:22632\tTest:22730\n"
     ]
    }
   ],
   "source": [
    "import src.utils as utils\n",
    "\n",
    "context_length = 3\n",
    "\n",
    "xtr, ytr = utils.get_samples(train_data, encode, context_size=context_length)\n",
    "Xtr, Ytr = torch.tensor(xtr, device=default_device), torch.tensor(ytr, device=default_device)\n",
    "\n",
    "xcv, ycv = utils.get_samples(cv_data, encode, context_size=context_length)\n",
    "Xcv, Ycv = torch.tensor(xcv, device=default_device), torch.tensor(ycv, device=default_device)\n",
    "\n",
    "xtest, ytest = utils.get_samples(test_data, encode, context_size=context_length)\n",
    "Xtest, Ytest = torch.tensor(xtest, device=default_device), torch.tensor(ytest, device=default_device)\n",
    "\n",
    "print(f\"Sample Sizes ==> Training:{Xtr.shape[0]}\\tValidation:{Xcv.shape[0]}\\tTest:{Xtest.shape[0]}\")"
   ]
  },
  {
   "cell_type": "markdown",
   "metadata": {},
   "source": [
    "#### Importing Models from file"
   ]
  },
  {
   "cell_type": "code",
   "execution_count": null,
   "metadata": {},
   "outputs": [],
   "source": [
    "import src.Model as M\n",
    "\n",
    "# Hyper Parameters\n",
    "g = torch.Generator(device=default_device).manual_seed(2147483627)\n",
    "feature_dim = 30\n",
    "n_hidden = 200\n",
    "# learning_rate = 0.1\n",
    "minibatch_size = 100\n",
    "\n",
    "lossi_tr = []\n",
    "lossi_cv = []\n",
    "\n",
    "# Define Model\n",
    "model = M.Model(len(vocab), feature_dim, n_hidden, context_length, d=default_device)\n",
    "\n",
    "for p in model.parameters():\n",
    "    p.requires_grad = True\n",
    "\n",
    "# # Generate Words before Training Loop\n",
    "# words = M.generate(model, \n",
    "#                  encode_func=encode, \n",
    "#                  decode_func=decode, \n",
    "#                  start_ch=\".\", \n",
    "#                  context_length=context_length, \n",
    "#                  count=10, \n",
    "#                  max_char=10,\n",
    "#                  d=default_device)\n",
    "# words"
   ]
  },
  {
   "cell_type": "markdown",
   "metadata": {},
   "source": [
    "#### Training Loop"
   ]
  },
  {
   "cell_type": "code",
   "execution_count": 8,
   "metadata": {},
   "outputs": [
    {
     "name": "stdout",
     "output_type": "stream",
     "text": [
      "Epoch:0 Training Loss: 3.2900442123413085\t Validation Loss:3.2979324865341186\n",
      "Epoch:1000 Training Loss: 2.211383502483368\t Validation Loss:2.453095910549164\n",
      "Epoch:2000 Training Loss: 2.1905141711235045\t Validation Loss:2.46128178358078\n",
      "Epoch:3000 Training Loss: 2.155082343816757\t Validation Loss:2.418037190437317\n",
      "Epoch:4000 Training Loss: 2.1525457537174226\t Validation Loss:2.388500498533249\n",
      "Epoch:5000 Training Loss: 2.1182689023017884\t Validation Loss:2.3680213642120362\n",
      "Epoch:6000 Training Loss: 2.0823914206027982\t Validation Loss:2.3778939700126647\n",
      "Epoch:7000 Training Loss: 2.0922942638397215\t Validation Loss:2.3811423993110656\n",
      "Epoch:8000 Training Loss: 2.103596280813217\t Validation Loss:2.3515599250793455\n",
      "Epoch:9000 Training Loss: 2.0736079728603363\t Validation Loss:2.3926898550987246\n"
     ]
    },
    {
     "data": {
      "image/png": "[encoded data removed]",
      "text/plain": [
       "<Figure size 640x480 with 1 Axes>"
      ]
     },
     "metadata": {},
     "output_type": "display_data"
    }
   ],
   "source": [
    "epochs = 10000\n",
    "learning_rate = 0.1\n",
    "\n",
    "for epoch in range(epochs):\n",
    "\n",
    "    # Minibatch\n",
    "    ix = torch.randint(Xtr.shape[0], size=(minibatch_size,), device=default_device, generator=g)\n",
    "    X, Y = Xtr[ix], Ytr[ix]\n",
    "\n",
    "    # Forward Pass\n",
    "    logits = model(X)\n",
    "\n",
    "    # Loss \n",
    "    loss = F.cross_entropy(logits, Y)\n",
    "    if epoch % 1000 == 0:\n",
    "        lossi_tr.append(M.estimateError(Xtr, Ytr, model))\n",
    "        lossi_cv.append(M.estimateError(Xcv, Ycv, model))\n",
    "        print(f\"Epoch:{epoch} Training Loss: {lossi_tr[-1]}\\t Validation Loss:{lossi_cv[-1]}\")\n",
    "\n",
    "    # Zero Grad\n",
    "    for p in model.parameters():\n",
    "        p.grad = None\n",
    "\n",
    "    # Backward Pass\n",
    "    loss.backward()\n",
    "    \n",
    "    # Update Weight\n",
    "    for p in model.parameters():\n",
    "        p.data -= learning_rate * p.grad\n",
    "\n",
    "plt.plot(lossi_tr, label=\"Train Loss\")\n",
    "plt.plot(lossi_cv, label=\"Validation Loss\")\n",
    "plt.legend(loc=\"upper right\")\n",
    "plt.show()"
   ]
  },
  {
   "cell_type": "code",
   "execution_count": 9,
   "metadata": {},
   "outputs": [
    {
     "data": {
      "text/plain": [
       "['burnae',\n",
       " 'ailah',\n",
       " 'anablahen',\n",
       " 'lenar',\n",
       " 'azri',\n",
       " 'arlie',\n",
       " 'liolanyal',\n",
       " 'jona',\n",
       " 'roby',\n",
       " 'sir']"
      ]
     },
     "execution_count": 9,
     "metadata": {},
     "output_type": "execute_result"
    }
   ],
   "source": [
    "words = M.generate(model, \n",
    "                 encode_func=encode, \n",
    "                 decode_func=decode, \n",
    "                 start_ch=\".\", \n",
    "                 context_length=context_length, \n",
    "                 count=10, \n",
    "                 max_char=10,\n",
    "                 d=default_device)\n",
    "\n",
    "words"
   ]
  }
 ],
 "metadata": {
  "kernelspec": {
   "display_name": "base",
   "language": "python",
   "name": "python3"
  },
  "language_info": {
   "codemirror_mode": {
    "name": "ipython",
    "version": 3
   },
   "file_extension": ".py",
   "mimetype": "text/x-python",
   "name": "python",
   "nbconvert_exporter": "python",
   "pygments_lexer": "ipython3",
   "version": "3.12.3"
  }
 },
 "nbformat": 4,
 "nbformat_minor": 2
}
