{
 "cells": [
  {
   "cell_type": "markdown",
   "metadata": {},
   "source": [
    "## Modularizing Code"
   ]
  },
  {
   "cell_type": "code",
   "execution_count": 1,
   "metadata": {},
   "outputs": [
    {
     "name": "stdout",
     "output_type": "stream",
     "text": [
      "Exception reporting mode: Plain\n",
      "e:\\Karpathy-Makemore\n"
     ]
    }
   ],
   "source": [
    "import math\n",
    "import torch\n",
    "import torch.nn.functional as F\n",
    "import matplotlib.pyplot as plt\n",
    "\n",
    "# excetions show up normally\n",
    "%xmode plain\n",
    "\n",
    "# plots show up inline\n",
    "%matplotlib inline\n",
    "\n",
    "def get_device(no_gpu=False):\n",
    "    \"\"\"\n",
    "    Returns one of cuda / mps / cpu based on availablity\n",
    "    \"\"\"\n",
    "    if no_gpu is True:\n",
    "        return torch.device(\"cpu\")\n",
    "    elif torch.cuda.is_available():\n",
    "        return torch.device(\"cuda\")\n",
    "    elif torch.backends.mps.is_available():\n",
    "        return torch.device(\"mps\")\n",
    "    else:\n",
    "        return torch.device(\"cpu\")\n",
    "\n",
    "\n",
    "# Choose the default device\n",
    "no_gpu = True\n",
    "default_device = get_device(no_gpu)\n",
    "\n",
    "\n",
    "# Needed to import modules from src\n",
    "import sys\n",
    "sys.path.append('..')\n",
    "\n",
    "\n",
    "# Get Project Root (needed for reading config)\n",
    "import os\n",
    "projectRoot = os.path.dirname(os.getcwd())\n",
    "print(projectRoot)"
   ]
  },
  {
   "cell_type": "markdown",
   "metadata": {},
   "source": [
    "#### Load Data and Associated Functions"
   ]
  },
  {
   "cell_type": "code",
   "execution_count": 2,
   "metadata": {},
   "outputs": [
    {
     "name": "stdout",
     "output_type": "stream",
     "text": [
      "Vocab Length:27\n",
      "Encode test: [5, 13, 13, 1]\tDecode test: emma\n",
      "Name Counts ==> All:32033\tTrain:25627\t Validation:3203\tTest: 3203 \n"
     ]
    }
   ],
   "source": [
    "from src.loadData import loadData\n",
    "import src.utils as utils\n",
    "\n",
    "all_data = loadData(projectRoot)\n",
    "vocab = utils.get_vocab(all_data)\n",
    "print(f\"Vocab Length:{len(vocab)}\")\n",
    "\n",
    "encode, decode = utils.get_encode_decode(vocab)\n",
    "print(f\"Encode test: {encode(\"emma\")}\\tDecode test: {decode(encode(\"emma\"))}\")\n",
    "# print(f\"Encode test: {encode(\"e\")}\\tDecode test: {decode(encode(\"e\"))}\")\n",
    "\n",
    "train_percentage = 0.8\n",
    "train_boundary = math.ceil(len(all_data) * train_percentage)\n",
    "\n",
    "cv_percentage = train_percentage + 0.1\n",
    "cv_boundary = math.ceil(len(all_data) * cv_percentage)\n",
    "\n",
    "train_data = all_data[:train_boundary]\n",
    "cv_data = all_data[train_boundary:cv_boundary]\n",
    "test_data = all_data[cv_boundary:]\n",
    "\n",
    "print(f\"Name Counts ==> All:{len(all_data)}\\tTrain:{len(train_data)}\\t Validation:{len(cv_data)}\\tTest: {len(test_data)} \")"
   ]
  },
  {
   "cell_type": "markdown",
   "metadata": {},
   "source": [
    "#### Create Samples from Data"
   ]
  },
  {
   "cell_type": "code",
   "execution_count": 3,
   "metadata": {},
   "outputs": [
    {
     "name": "stdout",
     "output_type": "stream",
     "text": [
      "Sample Sizes ==> Training:182784\tValidation:22632\tTest:22730\n"
     ]
    }
   ],
   "source": [
    "import src.utils as utils\n",
    "\n",
    "context_length = 3\n",
    "\n",
    "xtr, ytr = utils.get_samples(train_data, encode, context_size=context_length)\n",
    "Xtr, Ytr = torch.tensor(xtr, device=default_device), torch.tensor(ytr, device=default_device)\n",
    "\n",
    "xcv, ycv = utils.get_samples(cv_data, encode, context_size=context_length)\n",
    "Xcv, Ycv = torch.tensor(xcv, device=default_device), torch.tensor(ycv, device=default_device)\n",
    "\n",
    "xtest, ytest = utils.get_samples(test_data, encode, context_size=context_length)\n",
    "Xtest, Ytest = torch.tensor(xtest, device=default_device), torch.tensor(ytest, device=default_device)\n",
    "\n",
    "print(f\"Sample Sizes ==> Training:{Xtr.shape[0]}\\tValidation:{Xcv.shape[0]}\\tTest:{Xtest.shape[0]}\")"
   ]
  },
  {
   "cell_type": "markdown",
   "metadata": {},
   "source": [
    "#### Importing Models from file"
   ]
  },
  {
   "cell_type": "code",
   "execution_count": 5,
   "metadata": {},
   "outputs": [
    {
     "data": {
      "text/plain": [
       "['qlgeuvmcpm',\n",
       " 'chelsyuqav',\n",
       " 'xkusyyfrhx',\n",
       " 'kuqvwrcpkh',\n",
       " 'xctrasfqzj',\n",
       " 'ncdaohztvp',\n",
       " 'xtxmxodlyj',\n",
       " 'myvmifuxml',\n",
       " 'nzntvmalkp',\n",
       " 'teptbgaagl']"
      ]
     },
     "execution_count": 5,
     "metadata": {},
     "output_type": "execute_result"
    }
   ],
   "source": [
    "import src.Model as M\n",
    "\n",
    "# Hyper Parameters\n",
    "g = torch.Generator(device=default_device).manual_seed(2147483627)\n",
    "feature_dim = 30\n",
    "n_hidden = 200\n",
    "# learning_rate = 0.1\n",
    "minibatch_size = 100\n",
    "\n",
    "lossi_tr = []\n",
    "lossi_cv = []\n",
    "\n",
    "# Define Model\n",
    "model = M.Model(len(vocab), feature_dim, n_hidden, context_length, d=default_device)\n",
    "\n",
    "for p in model.parameters():\n",
    "    p.requires_grad = True\n",
    "\n",
    "# Generate Words before Training Loop\n",
    "words = M.generate(model, \n",
    "                 encode_func=encode, \n",
    "                 decode_func=decode, \n",
    "                 start_ch=\".\", \n",
    "                 context_length=context_length, \n",
    "                 count=10, \n",
    "                 max_char=10,\n",
    "                 d=default_device)\n",
    "words"
   ]
  },
  {
   "cell_type": "markdown",
   "metadata": {},
   "source": [
    "#### Training Loop"
   ]
  },
  {
   "cell_type": "code",
   "execution_count": 6,
   "metadata": {},
   "outputs": [
    {
     "name": "stdout",
     "output_type": "stream",
     "text": [
      "Epoch:0 Training Loss: 3.298332145214081\t Validation Loss:3.3023638415336607\n",
      "Epoch:1000 Training Loss: 2.3004084646701815\t Validation Loss:2.4954251432418824\n",
      "Epoch:2000 Training Loss: 2.2232954943180085\t Validation Loss:2.462770302295685\n",
      "Epoch:3000 Training Loss: 2.1884109485149383\t Validation Loss:2.4406489896774293\n",
      "Epoch:4000 Training Loss: 2.1435449993610383\t Validation Loss:2.4239186024665833\n",
      "Epoch:5000 Training Loss: 2.136190588474274\t Validation Loss:2.392506663799286\n",
      "Epoch:6000 Training Loss: 2.1304154455661775\t Validation Loss:2.4062440466880797\n",
      "Epoch:7000 Training Loss: 2.109943984746933\t Validation Loss:2.3906280469894408\n",
      "Epoch:8000 Training Loss: 2.0881055784225464\t Validation Loss:2.3882755541801455\n",
      "Epoch:9000 Training Loss: 2.111015852689743\t Validation Loss:2.3903227996826173\n"
     ]
    },
    {
     "data": {
      "image/png": "[encoded data removed]",
      "text/plain": [
       "<Figure size 640x480 with 1 Axes>"
      ]
     },
     "metadata": {},
     "output_type": "display_data"
    }
   ],
   "source": [
    "epochs = 10000\n",
    "learning_rate = 0.1\n",
    "\n",
    "for epoch in range(epochs):\n",
    "\n",
    "    # Minibatch\n",
    "    ix = torch.randint(Xtr.shape[0], size=(minibatch_size,), device=default_device, generator=g)\n",
    "    X, Y = Xtr[ix], Ytr[ix]\n",
    "\n",
    "    # Forward Pass\n",
    "    model.train()\n",
    "    logits = model(X)\n",
    "\n",
    "    # Loss \n",
    "    loss = F.cross_entropy(logits, Y)\n",
    "    if epoch % 1000 == 0:\n",
    "        model.eval()\n",
    "        lossi_tr.append(M.estimateError(Xtr, Ytr, model))\n",
    "        lossi_cv.append(M.estimateError(Xcv, Ycv, model))\n",
    "        print(f\"Epoch:{epoch} Training Loss: {lossi_tr[-1]}\\t Validation Loss:{lossi_cv[-1]}\")\n",
    "        model.train()\n",
    "\n",
    "    # Zero Grad\n",
    "    for p in model.parameters():\n",
    "        p.grad = None\n",
    "\n",
    "    # Backward Pass\n",
    "    loss.backward()\n",
    "    \n",
    "    # Update Weight\n",
    "    for p in model.parameters():\n",
    "        p.data -= learning_rate * p.grad\n",
    "\n",
    "plt.plot(lossi_tr, label=\"Train Loss\")\n",
    "plt.plot(lossi_cv, label=\"Validation Loss\")\n",
    "plt.legend(loc=\"upper right\")\n",
    "plt.show()"
   ]
  },
  {
   "cell_type": "code",
   "execution_count": 7,
   "metadata": {},
   "outputs": [
    {
     "data": {
      "text/plain": [
       "['kahlareel',\n",
       " 'aya',\n",
       " 'yuslee',\n",
       " 'alandoryn',\n",
       " 'kiyannie',\n",
       " 'tzer',\n",
       " 'vion',\n",
       " 'brithana',\n",
       " 'graien',\n",
       " 'rosan']"
      ]
     },
     "execution_count": 7,
     "metadata": {},
     "output_type": "execute_result"
    }
   ],
   "source": [
    "words = M.generate(model, \n",
    "                 encode_func=encode, \n",
    "                 decode_func=decode, \n",
    "                 start_ch=\".\", \n",
    "                 context_length=context_length, \n",
    "                 count=10, \n",
    "                 max_char=10,\n",
    "                 d=default_device)\n",
    "\n",
    "words"
   ]
  }
 ],
 "metadata": {
  "kernelspec": {
   "display_name": "base",
   "language": "python",
   "name": "python3"
  },
  "language_info": {
   "codemirror_mode": {
    "name": "ipython",
    "version": 3
   },
   "file_extension": ".py",
   "mimetype": "text/x-python",
   "name": "python",
   "nbconvert_exporter": "python",
   "pygments_lexer": "ipython3",
   "version": "3.12.3"
  }
 },
 "nbformat": 4,
 "nbformat_minor": 2
}
