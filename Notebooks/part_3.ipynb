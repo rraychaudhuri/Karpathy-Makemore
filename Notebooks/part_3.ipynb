{
 "cells": [
  {
   "cell_type": "markdown",
   "metadata": {},
   "source": [
    "## Part III : Using Multi Character context and proper neural net\n",
    "\n",
    "- Loosely follows the 2003 paper : [A Neural Probabilistic Language Model](https://www.jmlr.org/papers/volume3/bengio03a/bengio03a.pdf)\n",
    "- Project every character in a high dimensional (dimension configurable) feature space \n",
    "- Use multiple character (configurable) context\n",
    "- Finally use a neural net with configurable number of neurones and a tanh activation function"
   ]
  },
  {
   "cell_type": "code",
   "execution_count": 41,
   "metadata": {},
   "outputs": [
    {
     "name": "stdout",
     "output_type": "stream",
     "text": [
      "Exception reporting mode: Plain\n",
      "e:\\Karpathy-Makemore\n"
     ]
    }
   ],
   "source": [
    "import math\n",
    "import torch\n",
    "import torch.nn.functional as F\n",
    "import matplotlib.pyplot as plt\n",
    "\n",
    "# excetions show up normally\n",
    "%xmode plain\n",
    "\n",
    "# plots show up inline\n",
    "%matplotlib inline\n",
    "\n",
    "def get_device(no_gpu=False):\n",
    "    \"\"\"\n",
    "    Returns one of cuda / mps / cpu based on availablity\n",
    "    \"\"\"\n",
    "    if no_gpu is True:\n",
    "        return torch.device(\"cpu\")\n",
    "    elif torch.cuda.is_available():\n",
    "        return torch.device(\"cuda\")\n",
    "    elif torch.backends.mps.is_available():\n",
    "        return torch.device(\"mps\")\n",
    "    else:\n",
    "        return torch.device(\"cpu\")\n",
    "\n",
    "\n",
    "# Choose the default device\n",
    "no_gpu = False\n",
    "default_device = get_device(no_gpu)\n",
    "\n",
    "\n",
    "# Needed to import modules from src\n",
    "import sys\n",
    "sys.path.append('..')\n",
    "\n",
    "\n",
    "# Get Project Root (needed for reading config)\n",
    "import os\n",
    "projectRoot = os.path.dirname(os.getcwd())\n",
    "print(projectRoot)"
   ]
  },
  {
   "cell_type": "markdown",
   "metadata": {},
   "source": [
    "#### Load Raw Data and helper functions"
   ]
  },
  {
   "cell_type": "code",
   "execution_count": 42,
   "metadata": {},
   "outputs": [
    {
     "name": "stdout",
     "output_type": "stream",
     "text": [
      "Vocab Size: 27\n"
     ]
    },
    {
     "data": {
      "text/plain": [
       "['emma',\n",
       " 'olivia',\n",
       " 'ava',\n",
       " 'isabella',\n",
       " 'sophia',\n",
       " 'charlotte',\n",
       " 'mia',\n",
       " 'amelia',\n",
       " 'harper',\n",
       " 'evelyn']"
      ]
     },
     "execution_count": 42,
     "metadata": {},
     "output_type": "execute_result"
    }
   ],
   "source": [
    "from src.loadData import get_everything, start_ch\n",
    "all_data, vocab, stoi, itos = get_everything(projectRoot)\n",
    "\n",
    "print(f\"Vocab Size: {len(vocab)}\")\n",
    "all_data[:10]"
   ]
  },
  {
   "cell_type": "markdown",
   "metadata": {},
   "source": [
    "#### Split data into train, validation and test set"
   ]
  },
  {
   "cell_type": "code",
   "execution_count": 43,
   "metadata": {},
   "outputs": [],
   "source": [
    "train_percentage = 0.8\n",
    "train_boundary = math.ceil(len(all_data) * train_percentage)\n",
    "\n",
    "cv_percentage = train_percentage + 0.1\n",
    "cv_boundary = math.ceil(len(all_data) * cv_percentage)\n",
    "\n",
    "train_data = all_data[:train_boundary]\n",
    "cv_data = all_data[train_boundary:cv_boundary]\n",
    "test_data = all_data[cv_boundary:]"
   ]
  },
  {
   "cell_type": "markdown",
   "metadata": {},
   "source": [
    "#### Create training data from the base on multi character context"
   ]
  },
  {
   "cell_type": "code",
   "execution_count": 44,
   "metadata": {},
   "outputs": [
    {
     "name": "stdout",
     "output_type": "stream",
     "text": [
      "Xtr Shape: torch.Size([157157, 3])\tYtr Shape:torch.Size([157157])\n",
      "CPU times: total: 219 ms\n",
      "Wall time: 245 ms\n"
     ]
    },
    {
     "data": {
      "text/plain": [
       "tensor([[ 0,  0,  0],\n",
       "        [ 0,  0,  5],\n",
       "        [ 0,  5, 13],\n",
       "        [ 5, 13, 13],\n",
       "        [ 0,  0,  0]], device='cuda:0')"
      ]
     },
     "execution_count": 44,
     "metadata": {},
     "output_type": "execute_result"
    }
   ],
   "source": [
    "%%time\n",
    "\n",
    "context_size = 3\n",
    "\n",
    "# All the following should move to a module\n",
    "encode = lambda name: [stoi[ch] for ch in name] if len(name) > 1 else stoi[name]\n",
    "decode = lambda ints: [itos[i] for i in ints] if isinstance(ints, list) is True else itos[ints]\n",
    "\n",
    "def get_samples(data, context_size=3, start_ch=\".\"):\n",
    "    xs, ys = [], []\n",
    "    for name in data:\n",
    "        context = [start_ch] * context_size\n",
    "        for ch in name:\n",
    "            xs.append(encode(context))\n",
    "            ys.append(encode(ch))\n",
    "\n",
    "            context.pop(0)\n",
    "            context.append(ch)\n",
    "    return torch.tensor(xs, device=default_device), torch.tensor(ys, device=default_device)\n",
    "\n",
    "\n",
    "Xtr, Ytr = get_samples(train_data)\n",
    "Xcv, Ycv = get_samples(cv_data)\n",
    "print(f\"Xtr Shape: {Xtr.shape}\\tYtr Shape:{Ytr.shape}\")\n",
    "Xtr[:5, :]"
   ]
  },
  {
   "cell_type": "markdown",
   "metadata": {},
   "source": [
    "#### Neural Net Arch and Params"
   ]
  },
  {
   "cell_type": "code",
   "execution_count": 54,
   "metadata": {},
   "outputs": [],
   "source": [
    "g = torch.Generator(device=default_device).manual_seed(2147483627)\n",
    "\n",
    "# Projecting each character to 2 dimensional space \n",
    "feature_dim = 100\n",
    "\n",
    "# Number of units in the hidden layer\n",
    "n_hidden = 200\n",
    "\n",
    "input_dim = context_size * feature_dim \n",
    "output_dim = len(vocab)\n",
    "\n",
    "# Project to this feature space\n",
    "C = torch.randn(len(vocab), feature_dim,                    device=default_device, generator=g)\n",
    "\n",
    "# Hidden layer\n",
    "W1 = torch.randn(input_dim, n_hidden,                       device=default_device, generator=g)\n",
    "b1 = torch.randn(n_hidden,                                  device=default_device, generator=g)\n",
    "\n",
    "# Output layer\n",
    "W2 = torch.randn(n_hidden, output_dim,                      device=default_device, generator=g)\n",
    "b2 = torch.randn(output_dim,                                device=default_device, generator=g)\n",
    "\n",
    "parameters = [C, W1, b1, W2, b2]\n",
    "for p in parameters:\n",
    "    p.requires_grad = True\n",
    "\n",
    "learning_rate = 0.1\n",
    "minibatch_size = 500\n",
    "lossi_tr = []\n",
    "lossi_cv = []"
   ]
  },
  {
   "cell_type": "markdown",
   "metadata": {},
   "source": [
    "#### Training Loop"
   ]
  },
  {
   "cell_type": "code",
   "execution_count": 55,
   "metadata": {},
   "outputs": [],
   "source": [
    "def forwardPass(X, Y=None):\n",
    "    # Projection\n",
    "    Xenc = C[X]\n",
    "\n",
    "    # Flatten\n",
    "    Xenc = Xenc.view(-1, input_dim)\n",
    "    \n",
    "    # Hidden Layer\n",
    "    hout = torch.tanh(Xenc @ W1 + b1)\n",
    "\n",
    "    # Output Layer\n",
    "    logits = hout @ W2 + b2\n",
    "\n",
    "    # Loss\n",
    "    loss = None\n",
    "    if Y is not None:\n",
    "        loss = F.cross_entropy(logits, Y)\n",
    "    return logits, loss\n",
    "\n",
    "\n",
    "@torch.no_grad()\n",
    "def estimateError(X, Y, batch_size=100, number_of_loops=100):\n",
    "    if batch_size == -1:\n",
    "        _, loss = forwardPass(X, Y)\n",
    "        return loss.item()\n",
    "\n",
    "    lossi = []\n",
    "    for _ in range(number_of_loops):\n",
    "        ix = torch.randint(high=X.shape[0], size=(batch_size,), generator=g, device=default_device)\n",
    "        x = X[ix]\n",
    "        y = Y[ix]\n",
    "\n",
    "        _, loss = forwardPass(x, y)\n",
    "        lossi.append(loss.item())\n",
    "    return sum(lossi)/len(lossi)\n"
   ]
  },
  {
   "cell_type": "code",
   "execution_count": 56,
   "metadata": {},
   "outputs": [
    {
     "name": "stdout",
     "output_type": "stream",
     "text": [
      "epoch:0 \t Training loss: 30.030536651611328 \t Validation Loss: 30.804243087768555\n",
      "epoch:1000 \t Training loss: 4.1565141677856445 \t Validation Loss: 5.487847805023193\n",
      "epoch:2000 \t Training loss: 3.3797709941864014 \t Validation Loss: 4.5145583152771\n",
      "epoch:3000 \t Training loss: 3.04075026512146 \t Validation Loss: 4.07682991027832\n",
      "epoch:4000 \t Training loss: 2.846184253692627 \t Validation Loss: 3.8073935508728027\n",
      "epoch:5000 \t Training loss: 2.7102763652801514 \t Validation Loss: 3.6233160495758057\n",
      "epoch:6000 \t Training loss: 2.6100354194641113 \t Validation Loss: 3.493354320526123\n",
      "epoch:7000 \t Training loss: 2.5309865474700928 \t Validation Loss: 3.3731398582458496\n",
      "epoch:8000 \t Training loss: 2.4769294261932373 \t Validation Loss: 3.286953926086426\n",
      "epoch:9000 \t Training loss: 2.426753282546997 \t Validation Loss: 3.2128989696502686\n",
      "epoch:10000 \t Training loss: 2.3844285011291504 \t Validation Loss: 3.1496188640594482\n",
      "epoch:11000 \t Training loss: 2.348907232284546 \t Validation Loss: 3.0835678577423096\n",
      "epoch:12000 \t Training loss: 2.3193140029907227 \t Validation Loss: 3.032959461212158\n",
      "epoch:13000 \t Training loss: 2.2948031425476074 \t Validation Loss: 2.992554187774658\n",
      "epoch:14000 \t Training loss: 2.2739527225494385 \t Validation Loss: 2.9632556438446045\n",
      "epoch:15000 \t Training loss: 2.2559378147125244 \t Validation Loss: 2.9222500324249268\n",
      "epoch:16000 \t Training loss: 2.2379002571105957 \t Validation Loss: 2.8842222690582275\n",
      "epoch:17000 \t Training loss: 2.223304510116577 \t Validation Loss: 2.8658206462860107\n",
      "epoch:18000 \t Training loss: 2.2092959880828857 \t Validation Loss: 2.842833995819092\n",
      "epoch:19000 \t Training loss: 2.200024127960205 \t Validation Loss: 2.81840443611145\n",
      "epoch:20000 \t Training loss: 2.189044713973999 \t Validation Loss: 2.8049633502960205\n",
      "epoch:21000 \t Training loss: 2.1805126667022705 \t Validation Loss: 2.784756660461426\n",
      "epoch:22000 \t Training loss: 2.1720240116119385 \t Validation Loss: 2.775059938430786\n",
      "epoch:23000 \t Training loss: 2.1647050380706787 \t Validation Loss: 2.749875783920288\n",
      "epoch:24000 \t Training loss: 2.156080484390259 \t Validation Loss: 2.743077278137207\n",
      "epoch:25000 \t Training loss: 2.151967763900757 \t Validation Loss: 2.7248024940490723\n",
      "epoch:26000 \t Training loss: 2.1454052925109863 \t Validation Loss: 2.7132153511047363\n",
      "epoch:27000 \t Training loss: 2.1415295600891113 \t Validation Loss: 2.7070491313934326\n",
      "epoch:28000 \t Training loss: 2.1341657638549805 \t Validation Loss: 2.695876359939575\n",
      "epoch:29000 \t Training loss: 2.131164312362671 \t Validation Loss: 2.6897215843200684\n",
      "epoch:30000 \t Training loss: 2.127971649169922 \t Validation Loss: 2.677110195159912\n",
      "epoch:31000 \t Training loss: 2.1229796409606934 \t Validation Loss: 2.6669867038726807\n",
      "epoch:32000 \t Training loss: 2.119807243347168 \t Validation Loss: 2.6634156703948975\n",
      "epoch:33000 \t Training loss: 2.116900682449341 \t Validation Loss: 2.662677764892578\n",
      "epoch:34000 \t Training loss: 2.1119322776794434 \t Validation Loss: 2.647923231124878\n",
      "epoch:35000 \t Training loss: 2.1090192794799805 \t Validation Loss: 2.642080545425415\n",
      "epoch:36000 \t Training loss: 2.1074013710021973 \t Validation Loss: 2.6335713863372803\n",
      "epoch:37000 \t Training loss: 2.104365348815918 \t Validation Loss: 2.6284871101379395\n",
      "epoch:38000 \t Training loss: 2.1008012294769287 \t Validation Loss: 2.63126540184021\n",
      "epoch:39000 \t Training loss: 2.0990517139434814 \t Validation Loss: 2.622262477874756\n",
      "epoch:40000 \t Training loss: 2.0963330268859863 \t Validation Loss: 2.619006872177124\n",
      "epoch:41000 \t Training loss: 2.0943193435668945 \t Validation Loss: 2.6101527214050293\n",
      "epoch:42000 \t Training loss: 2.0927393436431885 \t Validation Loss: 2.6110434532165527\n",
      "epoch:43000 \t Training loss: 2.090757131576538 \t Validation Loss: 2.6080901622772217\n",
      "epoch:44000 \t Training loss: 2.0889155864715576 \t Validation Loss: 2.6024489402770996\n",
      "epoch:45000 \t Training loss: 2.086134910583496 \t Validation Loss: 2.6004233360290527\n",
      "epoch:46000 \t Training loss: 2.0831868648529053 \t Validation Loss: 2.5915772914886475\n",
      "epoch:47000 \t Training loss: 2.0822434425354004 \t Validation Loss: 2.589698553085327\n",
      "epoch:48000 \t Training loss: 2.0813052654266357 \t Validation Loss: 2.5864932537078857\n",
      "epoch:49000 \t Training loss: 2.079521894454956 \t Validation Loss: 2.5827903747558594\n"
     ]
    },
    {
     "data": {
      "image/png": "[encoded data removed]",
      "text/plain": [
       "<Figure size 640x480 with 1 Axes>"
      ]
     },
     "metadata": {},
     "output_type": "display_data"
    },
    {
     "name": "stdout",
     "output_type": "stream",
     "text": [
      "CPU times: total: 30.2 s\n",
      "Wall time: 30.1 s\n"
     ]
    }
   ],
   "source": [
    "%%time\n",
    "\n",
    "epochs = 50000\n",
    "for epoch in range(epochs):\n",
    "\n",
    "    # Create Minibatch\n",
    "    ix = torch.randint(high=Xtr.shape[0], size=(minibatch_size,), generator=g, device=default_device)\n",
    "    X = Xtr[ix]\n",
    "    Y = Ytr[ix]\n",
    "    \n",
    "    # forward pass\n",
    "    logits, loss = forwardPass(X, Y)\n",
    "    \n",
    "    if epoch % 1000 == 0:\n",
    "        lossi_tr.append(estimateError(Xtr, Ytr, batch_size=-1))\n",
    "        lossi_cv.append(estimateError(Xcv, Ycv, batch_size=-1))\n",
    "        print(f\"epoch:{epoch} \\t Training loss: {lossi_tr[-1]} \\t Validation Loss: {lossi_cv[-1]}\")\n",
    "    \n",
    "    # Zero Grad\n",
    "    for p in parameters:\n",
    "        p.grad = None\n",
    "\n",
    "    # Backward Pass\n",
    "    loss.backward()\n",
    "\n",
    "    # Update params\n",
    "    for p in parameters:\n",
    "        p.data -= (learning_rate * p.grad)\n",
    "\n",
    "\n",
    "plt.plot(lossi_tr, label=\"Train Loss\")\n",
    "plt.plot(lossi_cv, label=\"Validation Loss\")\n",
    "plt.legend(loc=\"upper right\")\n",
    "plt.show()"
   ]
  },
  {
   "cell_type": "markdown",
   "metadata": {},
   "source": [
    "#### Generate New Words"
   ]
  },
  {
   "cell_type": "code",
   "execution_count": 58,
   "metadata": {},
   "outputs": [
    {
     "data": {
      "text/plain": [
       "['mmlamdbard',\n",
       " 'jyjkihvjmd',\n",
       " 'dkmnhngljz',\n",
       " 'kcajmhlmdd',\n",
       " 'jdszdmedhk',\n",
       " 'mkkjesdzss',\n",
       " 'nmddabvrhh',\n",
       " 'eaqvzmcmhy',\n",
       " 'wneadsglpa',\n",
       " 'lolmmmakac']"
      ]
     },
     "execution_count": 58,
     "metadata": {},
     "output_type": "execute_result"
    }
   ],
   "source": [
    "count = 10\n",
    "max_characters = 10\n",
    "words = []\n",
    "\n",
    "with torch.no_grad():\n",
    "    for i in range(count):\n",
    "        w = []\n",
    "        while len(w) < max_characters:\n",
    "            context = [start_ch] * context_size\n",
    "\n",
    "            x = torch.tensor(encode(context), device=default_device)\n",
    "            logits, _ = forwardPass(x)\n",
    "            probabilities = F.softmax(logits, dim=-1)\n",
    "\n",
    "            ch = decode(torch.multinomial(probabilities, num_samples=1).item())\n",
    "            if ch == start_ch:\n",
    "                break\n",
    "\n",
    "            w.append(ch)\n",
    "            context.pop(0)\n",
    "            context.append(ch)\n",
    "        words.append(\"\".join(w))\n",
    "\n",
    "words"
   ]
  }
 ],
 "metadata": {
  "kernelspec": {
   "display_name": "base",
   "language": "python",
   "name": "python3"
  },
  "language_info": {
   "codemirror_mode": {
    "name": "ipython",
    "version": 3
   },
   "file_extension": ".py",
   "mimetype": "text/x-python",
   "name": "python",
   "nbconvert_exporter": "python",
   "pygments_lexer": "ipython3",
   "version": "3.12.3"
  }
 },
 "nbformat": 4,
 "nbformat_minor": 2
}
