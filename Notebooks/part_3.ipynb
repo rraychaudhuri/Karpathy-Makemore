{
 "cells": [
  {
   "cell_type": "markdown",
   "metadata": {},
   "source": [
    "## Part III : Using Multi Character context and proper neural net\n",
    "\n",
    "- Loosely follows the 2003 paper : [A Neural Probabilistic Language Model](https://www.jmlr.org/papers/volume3/bengio03a/bengio03a.pdf)\n",
    "- Project every character in a high dimensional (dimension configurable) feature space \n",
    "- Use multiple character (configurable) context\n",
    "- Finally use a neural net with configurable number of neurones and a tanh activation function"
   ]
  },
  {
   "cell_type": "code",
   "execution_count": 59,
   "metadata": {},
   "outputs": [
    {
     "name": "stdout",
     "output_type": "stream",
     "text": [
      "Exception reporting mode: Plain\n",
      "e:\\Karpathy-Makemore\n"
     ]
    }
   ],
   "source": [
    "import math\n",
    "import torch\n",
    "import torch.nn.functional as F\n",
    "import matplotlib.pyplot as plt\n",
    "\n",
    "# excetions show up normally\n",
    "%xmode plain\n",
    "\n",
    "# plots show up inline\n",
    "%matplotlib inline\n",
    "\n",
    "def get_device(no_gpu=False):\n",
    "    \"\"\"\n",
    "    Returns one of cuda / mps / cpu based on availablity\n",
    "    \"\"\"\n",
    "    if no_gpu is True:\n",
    "        return torch.device(\"cpu\")\n",
    "    elif torch.cuda.is_available():\n",
    "        return torch.device(\"cuda\")\n",
    "    elif torch.backends.mps.is_available():\n",
    "        return torch.device(\"mps\")\n",
    "    else:\n",
    "        return torch.device(\"cpu\")\n",
    "\n",
    "\n",
    "# Choose the default device\n",
    "no_gpu = False\n",
    "default_device = get_device(no_gpu)\n",
    "\n",
    "\n",
    "# Needed to import modules from src\n",
    "import sys\n",
    "sys.path.append('..')\n",
    "\n",
    "\n",
    "# Get Project Root (needed for reading config)\n",
    "import os\n",
    "projectRoot = os.path.dirname(os.getcwd())\n",
    "print(projectRoot)"
   ]
  },
  {
   "cell_type": "markdown",
   "metadata": {},
   "source": [
    "#### Load Raw Data and helper functions"
   ]
  },
  {
   "cell_type": "code",
   "execution_count": 60,
   "metadata": {},
   "outputs": [
    {
     "name": "stdout",
     "output_type": "stream",
     "text": [
      "Vocab Size: 27\n"
     ]
    },
    {
     "data": {
      "text/plain": [
       "['emma',\n",
       " 'olivia',\n",
       " 'ava',\n",
       " 'isabella',\n",
       " 'sophia',\n",
       " 'charlotte',\n",
       " 'mia',\n",
       " 'amelia',\n",
       " 'harper',\n",
       " 'evelyn']"
      ]
     },
     "execution_count": 60,
     "metadata": {},
     "output_type": "execute_result"
    }
   ],
   "source": [
    "from src.loadData import get_everything, start_ch\n",
    "all_data, vocab, stoi, itos = get_everything(projectRoot)\n",
    "\n",
    "print(f\"Vocab Size: {len(vocab)}\")\n",
    "all_data[:10]"
   ]
  },
  {
   "cell_type": "markdown",
   "metadata": {},
   "source": [
    "#### Split data into train, validation and test set"
   ]
  },
  {
   "cell_type": "code",
   "execution_count": 61,
   "metadata": {},
   "outputs": [],
   "source": [
    "train_percentage = 0.8\n",
    "train_boundary = math.ceil(len(all_data) * train_percentage)\n",
    "\n",
    "cv_percentage = train_percentage + 0.1\n",
    "cv_boundary = math.ceil(len(all_data) * cv_percentage)\n",
    "\n",
    "train_data = all_data[:train_boundary]\n",
    "cv_data = all_data[train_boundary:cv_boundary]\n",
    "test_data = all_data[cv_boundary:]"
   ]
  },
  {
   "cell_type": "markdown",
   "metadata": {},
   "source": [
    "#### Create training data from the base on multi character context"
   ]
  },
  {
   "cell_type": "code",
   "execution_count": 62,
   "metadata": {},
   "outputs": [
    {
     "name": "stdout",
     "output_type": "stream",
     "text": [
      "Xtr Shape: torch.Size([182784, 3])\tYtr Shape:torch.Size([182784])\n",
      "CPU times: total: 422 ms\n",
      "Wall time: 411 ms\n"
     ]
    },
    {
     "data": {
      "text/plain": [
       "tensor([[ 0,  0,  0],\n",
       "        [ 0,  0,  5],\n",
       "        [ 0,  5, 13],\n",
       "        [ 5, 13, 13],\n",
       "        [13, 13,  1]], device='cuda:0')"
      ]
     },
     "execution_count": 62,
     "metadata": {},
     "output_type": "execute_result"
    }
   ],
   "source": [
    "%%time\n",
    "\n",
    "context_size = 3\n",
    "\n",
    "# All the following should move to a module\n",
    "encode = lambda name: [stoi[ch] for ch in name] if len(name) > 1 else stoi[name]\n",
    "decode = lambda ints: [itos[i] for i in ints] if isinstance(ints, list) is True else itos[ints]\n",
    "\n",
    "def get_samples(data, context_size=3, start_ch=\".\"):\n",
    "    xs, ys = [], []\n",
    "    for name in data:\n",
    "        context = [start_ch] * context_size\n",
    "        name = name + start_ch\n",
    "        for ch in name:\n",
    "            xs.append(encode(context))\n",
    "            ys.append(encode(ch))\n",
    "\n",
    "            context.pop(0)\n",
    "            context.append(ch)\n",
    "    return torch.tensor(xs, device=default_device), torch.tensor(ys, device=default_device)\n",
    "\n",
    "\n",
    "Xtr, Ytr = get_samples(train_data)\n",
    "Xcv, Ycv = get_samples(cv_data)\n",
    "print(f\"Xtr Shape: {Xtr.shape}\\tYtr Shape:{Ytr.shape}\")\n",
    "Xtr[:5, :]"
   ]
  },
  {
   "cell_type": "markdown",
   "metadata": {},
   "source": [
    "#### Neural Net Arch and Params"
   ]
  },
  {
   "cell_type": "code",
   "execution_count": 63,
   "metadata": {},
   "outputs": [],
   "source": [
    "g = torch.Generator(device=default_device).manual_seed(2147483627)\n",
    "\n",
    "# Projecting each character to 2 dimensional space \n",
    "feature_dim = 100\n",
    "\n",
    "# Number of units in the hidden layer\n",
    "n_hidden = 200\n",
    "\n",
    "input_dim = context_size * feature_dim \n",
    "output_dim = len(vocab)\n",
    "\n",
    "# Project to this feature space\n",
    "C = torch.randn(len(vocab), feature_dim,                    device=default_device, generator=g)\n",
    "\n",
    "# Hidden layer\n",
    "W1 = torch.randn(input_dim, n_hidden,                       device=default_device, generator=g)\n",
    "b1 = torch.randn(n_hidden,                                  device=default_device, generator=g)\n",
    "\n",
    "# Output layer\n",
    "W2 = torch.randn(n_hidden, output_dim,                      device=default_device, generator=g)\n",
    "b2 = torch.randn(output_dim,                                device=default_device, generator=g)\n",
    "\n",
    "parameters = [C, W1, b1, W2, b2]\n",
    "for p in parameters:\n",
    "    p.requires_grad = True\n",
    "\n",
    "learning_rate = 0.1\n",
    "minibatch_size = 500\n",
    "lossi_tr = []\n",
    "lossi_cv = []"
   ]
  },
  {
   "cell_type": "markdown",
   "metadata": {},
   "source": [
    "#### Training Loop"
   ]
  },
  {
   "cell_type": "code",
   "execution_count": 64,
   "metadata": {},
   "outputs": [],
   "source": [
    "def forwardPass(X, Y=None):\n",
    "    # Projection\n",
    "    Xenc = C[X]\n",
    "\n",
    "    # Flatten\n",
    "    Xenc = Xenc.view(-1, input_dim)\n",
    "    \n",
    "    # Hidden Layer\n",
    "    hout = torch.tanh(Xenc @ W1 + b1)\n",
    "\n",
    "    # Output Layer\n",
    "    logits = hout @ W2 + b2\n",
    "\n",
    "    # Loss\n",
    "    loss = None\n",
    "    if Y is not None:\n",
    "        loss = F.cross_entropy(logits, Y)\n",
    "    return logits, loss\n",
    "\n",
    "\n",
    "@torch.no_grad()\n",
    "def estimateError(X, Y, batch_size=100, number_of_loops=100):\n",
    "    if batch_size == -1:\n",
    "        _, loss = forwardPass(X, Y)\n",
    "        return loss.item()\n",
    "\n",
    "    lossi = []\n",
    "    for _ in range(number_of_loops):\n",
    "        ix = torch.randint(high=X.shape[0], size=(batch_size,), generator=g, device=default_device)\n",
    "        x = X[ix]\n",
    "        y = Y[ix]\n",
    "\n",
    "        _, loss = forwardPass(x, y)\n",
    "        lossi.append(loss.item())\n",
    "    return sum(lossi)/len(lossi)\n"
   ]
  },
  {
   "cell_type": "code",
   "execution_count": 65,
   "metadata": {},
   "outputs": [
    {
     "name": "stdout",
     "output_type": "stream",
     "text": [
      "epoch:0 \t Training loss: 30.724136352539062 \t Validation Loss: 31.264537811279297\n",
      "epoch:1000 \t Training loss: 4.181419372558594 \t Validation Loss: 5.494375705718994\n",
      "epoch:2000 \t Training loss: 3.396580457687378 \t Validation Loss: 4.521453380584717\n",
      "epoch:3000 \t Training loss: 3.047685384750366 \t Validation Loss: 4.05568790435791\n",
      "epoch:4000 \t Training loss: 2.8494081497192383 \t Validation Loss: 3.7868621349334717\n",
      "epoch:5000 \t Training loss: 2.7040600776672363 \t Validation Loss: 3.5938832759857178\n",
      "epoch:6000 \t Training loss: 2.602332830429077 \t Validation Loss: 3.4332292079925537\n",
      "epoch:7000 \t Training loss: 2.5215117931365967 \t Validation Loss: 3.3233184814453125\n",
      "epoch:8000 \t Training loss: 2.4572601318359375 \t Validation Loss: 3.2189478874206543\n",
      "epoch:9000 \t Training loss: 2.404967784881592 \t Validation Loss: 3.141112804412842\n",
      "epoch:10000 \t Training loss: 2.3612253665924072 \t Validation Loss: 3.067488431930542\n",
      "epoch:11000 \t Training loss: 2.327002763748169 \t Validation Loss: 3.002192258834839\n",
      "epoch:12000 \t Training loss: 2.2931346893310547 \t Validation Loss: 2.9548962116241455\n",
      "epoch:13000 \t Training loss: 2.269644021987915 \t Validation Loss: 2.9139034748077393\n",
      "epoch:14000 \t Training loss: 2.247798204421997 \t Validation Loss: 2.8769044876098633\n",
      "epoch:15000 \t Training loss: 2.225569248199463 \t Validation Loss: 2.838465929031372\n",
      "epoch:16000 \t Training loss: 2.2087714672088623 \t Validation Loss: 2.8147690296173096\n",
      "epoch:17000 \t Training loss: 2.1938815116882324 \t Validation Loss: 2.7850096225738525\n",
      "epoch:18000 \t Training loss: 2.1839218139648438 \t Validation Loss: 2.766251802444458\n",
      "epoch:19000 \t Training loss: 2.170099973678589 \t Validation Loss: 2.736470937728882\n",
      "epoch:20000 \t Training loss: 2.1591782569885254 \t Validation Loss: 2.7234861850738525\n",
      "epoch:21000 \t Training loss: 2.1505990028381348 \t Validation Loss: 2.713468551635742\n",
      "epoch:22000 \t Training loss: 2.143220901489258 \t Validation Loss: 2.681781530380249\n",
      "epoch:23000 \t Training loss: 2.1368446350097656 \t Validation Loss: 2.6784908771514893\n",
      "epoch:24000 \t Training loss: 2.1311538219451904 \t Validation Loss: 2.668980121612549\n",
      "epoch:25000 \t Training loss: 2.1237900257110596 \t Validation Loss: 2.648883581161499\n",
      "epoch:26000 \t Training loss: 2.1164276599884033 \t Validation Loss: 2.6426494121551514\n",
      "epoch:27000 \t Training loss: 2.1106746196746826 \t Validation Loss: 2.6257667541503906\n",
      "epoch:28000 \t Training loss: 2.1057074069976807 \t Validation Loss: 2.6246495246887207\n",
      "epoch:29000 \t Training loss: 2.1027979850769043 \t Validation Loss: 2.621947765350342\n",
      "epoch:30000 \t Training loss: 2.098789691925049 \t Validation Loss: 2.6026315689086914\n",
      "epoch:31000 \t Training loss: 2.094496726989746 \t Validation Loss: 2.599637508392334\n",
      "epoch:32000 \t Training loss: 2.0901148319244385 \t Validation Loss: 2.5883007049560547\n",
      "epoch:33000 \t Training loss: 2.084794044494629 \t Validation Loss: 2.5854642391204834\n",
      "epoch:34000 \t Training loss: 2.0844109058380127 \t Validation Loss: 2.582854747772217\n",
      "epoch:35000 \t Training loss: 2.0799245834350586 \t Validation Loss: 2.5736465454101562\n",
      "epoch:36000 \t Training loss: 2.075580596923828 \t Validation Loss: 2.5691018104553223\n",
      "epoch:37000 \t Training loss: 2.0740063190460205 \t Validation Loss: 2.5706629753112793\n",
      "epoch:38000 \t Training loss: 2.070455312728882 \t Validation Loss: 2.5568857192993164\n",
      "epoch:39000 \t Training loss: 2.067809581756592 \t Validation Loss: 2.556489944458008\n",
      "epoch:40000 \t Training loss: 2.0659706592559814 \t Validation Loss: 2.547306776046753\n",
      "epoch:41000 \t Training loss: 2.0646777153015137 \t Validation Loss: 2.545400381088257\n",
      "epoch:42000 \t Training loss: 2.0624284744262695 \t Validation Loss: 2.536468982696533\n",
      "epoch:43000 \t Training loss: 2.0605392456054688 \t Validation Loss: 2.5410561561584473\n",
      "epoch:44000 \t Training loss: 2.058290719985962 \t Validation Loss: 2.5402519702911377\n",
      "epoch:45000 \t Training loss: 2.054584503173828 \t Validation Loss: 2.529517889022827\n",
      "epoch:46000 \t Training loss: 2.053593397140503 \t Validation Loss: 2.530247449874878\n",
      "epoch:47000 \t Training loss: 2.053118944168091 \t Validation Loss: 2.5259041786193848\n",
      "epoch:48000 \t Training loss: 2.050083637237549 \t Validation Loss: 2.5168707370758057\n",
      "epoch:49000 \t Training loss: 2.0502798557281494 \t Validation Loss: 2.5223217010498047\n"
     ]
    },
    {
     "data": {
      "image/png": "[encoded data removed]",
      "text/plain": [
       "<Figure size 640x480 with 1 Axes>"
      ]
     },
     "metadata": {},
     "output_type": "display_data"
    },
    {
     "name": "stdout",
     "output_type": "stream",
     "text": [
      "CPU times: total: 44.3 s\n",
      "Wall time: 55.7 s\n"
     ]
    }
   ],
   "source": [
    "%%time\n",
    "\n",
    "epochs = 50000\n",
    "for epoch in range(epochs):\n",
    "\n",
    "    # Create Minibatch\n",
    "    ix = torch.randint(high=Xtr.shape[0], size=(minibatch_size,), generator=g, device=default_device)\n",
    "    X = Xtr[ix]\n",
    "    Y = Ytr[ix]\n",
    "    \n",
    "    # forward pass\n",
    "    logits, loss = forwardPass(X, Y)\n",
    "    \n",
    "    if epoch % 1000 == 0:\n",
    "        lossi_tr.append(estimateError(Xtr, Ytr, batch_size=-1))\n",
    "        lossi_cv.append(estimateError(Xcv, Ycv, batch_size=-1))\n",
    "        print(f\"epoch:{epoch} \\t Training loss: {lossi_tr[-1]} \\t Validation Loss: {lossi_cv[-1]}\")\n",
    "    \n",
    "    # Zero Grad\n",
    "    for p in parameters:\n",
    "        p.grad = None\n",
    "\n",
    "    # Backward Pass\n",
    "    loss.backward()\n",
    "\n",
    "    # Update params\n",
    "    for p in parameters:\n",
    "        p.data -= (learning_rate * p.grad)\n",
    "\n",
    "\n",
    "plt.plot(lossi_tr, label=\"Train Loss\")\n",
    "plt.plot(lossi_cv, label=\"Validation Loss\")\n",
    "plt.legend(loc=\"upper right\")\n",
    "plt.show()"
   ]
  },
  {
   "cell_type": "markdown",
   "metadata": {},
   "source": [
    "#### Generate New Words"
   ]
  },
  {
   "cell_type": "code",
   "execution_count": 69,
   "metadata": {},
   "outputs": [
    {
     "data": {
      "text/plain": [
       "['akasejzadm',\n",
       " 'abmzadenkr',\n",
       " 'lmtaajzpau',\n",
       " 'knahtkkvtm',\n",
       " 'nnazmatrap',\n",
       " 'zdxksgjsak',\n",
       " 'lmmshrnanl',\n",
       " 'acahjaampa',\n",
       " 'hakjojbwkl',\n",
       " 'nkamakmllg']"
      ]
     },
     "execution_count": 69,
     "metadata": {},
     "output_type": "execute_result"
    }
   ],
   "source": [
    "count = 10\n",
    "max_characters = 10\n",
    "words = []\n",
    "\n",
    "with torch.no_grad():\n",
    "    for i in range(count):\n",
    "        w = []\n",
    "        while len(w) < max_characters:\n",
    "            context = [start_ch] * context_size\n",
    "\n",
    "            x = torch.tensor(encode(context), device=default_device)\n",
    "            logits, _ = forwardPass(x)\n",
    "            probabilities = F.softmax(logits, dim=-1)\n",
    "\n",
    "            ch = decode(torch.multinomial(probabilities, num_samples=1).item())\n",
    "            if ch == start_ch:\n",
    "                break\n",
    "\n",
    "            w.append(ch)\n",
    "            context.pop(0)\n",
    "            context.append(ch)\n",
    "        words.append(\"\".join(w))\n",
    "\n",
    "words"
   ]
  }
 ],
 "metadata": {
  "kernelspec": {
   "display_name": "base",
   "language": "python",
   "name": "python3"
  },
  "language_info": {
   "codemirror_mode": {
    "name": "ipython",
    "version": 3
   },
   "file_extension": ".py",
   "mimetype": "text/x-python",
   "name": "python",
   "nbconvert_exporter": "python",
   "pygments_lexer": "ipython3",
   "version": "3.12.3"
  }
 },
 "nbformat": 4,
 "nbformat_minor": 2
}
