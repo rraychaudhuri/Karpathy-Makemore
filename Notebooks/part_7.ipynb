{
 "cells": [
  {
   "cell_type": "markdown",
   "metadata": {},
   "source": [
    "## Part VII : Implementing Wavenet style structure\n",
    "\n",
    "Wavenet Paper : [link](https://arxiv.org/pdf/1609.03499)"
   ]
  },
  {
   "cell_type": "code",
   "execution_count": 18,
   "metadata": {},
   "outputs": [
    {
     "name": "stdout",
     "output_type": "stream",
     "text": [
      "Exception reporting mode: Plain\n",
      "e:\\Karpathy-Makemore\n",
      "Vocab Length:27\n",
      "Encode test: [5, 13, 13, 1]\tDecode test: emma\n",
      "Name Counts ==> All:32033\tTrain:25627\t Validation:3203\tTest: 3203 \n"
     ]
    }
   ],
   "source": [
    "import math\n",
    "import torch\n",
    "import torch.nn.functional as F\n",
    "import matplotlib.pyplot as plt\n",
    "\n",
    "# excetions show up normally\n",
    "%xmode plain\n",
    "\n",
    "# plots show up inline\n",
    "%matplotlib inline\n",
    "\n",
    "def get_device(no_gpu=False):\n",
    "    \"\"\"\n",
    "    Returns one of cuda / mps / cpu based on availablity\n",
    "    \"\"\"\n",
    "    if no_gpu is True:\n",
    "        return torch.device(\"cpu\")\n",
    "    elif torch.cuda.is_available():\n",
    "        return torch.device(\"cuda\")\n",
    "    elif torch.backends.mps.is_available():\n",
    "        return torch.device(\"mps\")\n",
    "    else:\n",
    "        return torch.device(\"cpu\")\n",
    "\n",
    "\n",
    "# Choose the default device\n",
    "no_gpu = False\n",
    "default_device = get_device(no_gpu)\n",
    "\n",
    "\n",
    "# Needed to import modules from src\n",
    "import sys\n",
    "sys.path.append('..')\n",
    "\n",
    "\n",
    "# Get Project Root (needed for reading config)\n",
    "import os\n",
    "projectRoot = os.path.dirname(os.getcwd())\n",
    "print(projectRoot)\n",
    "\n",
    "from src.loadData import loadData\n",
    "import src.utils as utils\n",
    "\n",
    "all_data = loadData(projectRoot)\n",
    "vocab = utils.get_vocab(all_data)\n",
    "print(f\"Vocab Length:{len(vocab)}\")\n",
    "\n",
    "encode, decode = utils.get_encode_decode(vocab)\n",
    "print(f\"Encode test: {encode(\"emma\")}\\tDecode test: {decode(encode(\"emma\"))}\")\n",
    "# print(f\"Encode test: {encode(\"e\")}\\tDecode test: {decode(encode(\"e\"))}\")\n",
    "\n",
    "train_percentage = 0.8\n",
    "train_boundary = math.ceil(len(all_data) * train_percentage)\n",
    "\n",
    "cv_percentage = train_percentage + 0.1\n",
    "cv_boundary = math.ceil(len(all_data) * cv_percentage)\n",
    "\n",
    "train_data = all_data[:train_boundary]\n",
    "cv_data = all_data[train_boundary:cv_boundary]\n",
    "test_data = all_data[cv_boundary:]\n",
    "\n",
    "print(f\"Name Counts ==> All:{len(all_data)}\\tTrain:{len(train_data)}\\t Validation:{len(cv_data)}\\tTest: {len(test_data)} \")"
   ]
  },
  {
   "cell_type": "markdown",
   "metadata": {},
   "source": [
    "#### Create Samples from Data"
   ]
  },
  {
   "cell_type": "code",
   "execution_count": 19,
   "metadata": {},
   "outputs": [
    {
     "name": "stdout",
     "output_type": "stream",
     "text": [
      "Sample Sizes ==> Training:182784\tValidation:22632\tTest:22730\n"
     ]
    }
   ],
   "source": [
    "import src.utils as utils\n",
    "\n",
    "context_length = 8\n",
    "\n",
    "xtr, ytr = utils.get_samples(train_data, encode, context_size=context_length)\n",
    "Xtr, Ytr = torch.tensor(xtr, device=default_device), torch.tensor(ytr, device=default_device)\n",
    "\n",
    "xcv, ycv = utils.get_samples(cv_data, encode, context_size=context_length)\n",
    "Xcv, Ycv = torch.tensor(xcv, device=default_device), torch.tensor(ycv, device=default_device)\n",
    "\n",
    "xtest, ytest = utils.get_samples(test_data, encode, context_size=context_length)\n",
    "Xtest, Ytest = torch.tensor(xtest, device=default_device), torch.tensor(ytest, device=default_device)\n",
    "\n",
    "print(f\"Sample Sizes ==> Training:{Xtr.shape[0]}\\tValidation:{Xcv.shape[0]}\\tTest:{Xtest.shape[0]}\")"
   ]
  },
  {
   "cell_type": "markdown",
   "metadata": {},
   "source": [
    "#### Scratch Space : crux of the implementation"
   ]
  },
  {
   "cell_type": "code",
   "execution_count": null,
   "metadata": {},
   "outputs": [],
   "source": []
  },
  {
   "cell_type": "markdown",
   "metadata": {},
   "source": [
    "#### Import Model from file"
   ]
  },
  {
   "cell_type": "code",
   "execution_count": 20,
   "metadata": {},
   "outputs": [],
   "source": [
    "import src.Model as M\n",
    "\n",
    "class FlattenConsecutive(M.Layer):\n",
    "    def __init__(self, n):\n",
    "        super().__init__()\n",
    "        self.n = n\n",
    "    \n",
    "    def __call__(self, X):\n",
    "        B, T, C = X.shape\n",
    "        self.out = X.view(B, T//self.n, C*self.n)\n",
    "\n",
    "        if self.out.shape[1] == 1:\n",
    "            self.out = self.out.squeeze(1)\n",
    "        return self.out\n",
    "\n",
    "\n",
    "class BatchNorm1dUpdated(M.Layer):\n",
    "    \"\"\"\n",
    "    Handles 2 and 3 dimentional X\n",
    "    \"\"\"\n",
    "\n",
    "    def __init__(self, dim, eps= 0.0001, modemtum=0.001, d=default_device):\n",
    "        super().__init__()\n",
    "\n",
    "        self.bngain = torch.ones(dim, device=d)\n",
    "        self.bnbias = torch.zeros(dim, device=d)\n",
    "\n",
    "        self.bnmean_running = torch.zeros(dim, device=d)\n",
    "        self.bnstd_running = torch.ones(dim, device=d)\n",
    "\n",
    "        self.eps = eps\n",
    "        self.momentum = modemtum\n",
    "\n",
    "\n",
    "    def __call__(self, X):\n",
    "        if self.training is True:\n",
    "            if X.ndim == 2:\n",
    "                mean_i = X.mean(dim=0, keepdim=True)\n",
    "                std_i = X.std(dim=0, keepdim=True)\n",
    "            else:\n",
    "                mean_i = X.mean(dim=(0,1), keepdim=True)\n",
    "                std_i = X.std(dim=(0,1), keepdim=True)\n",
    "\n",
    "            with torch.no_grad():\n",
    "                self.bnmean_running = (1-self.momentum) * self.bnmean_running + self.momentum * mean_i\n",
    "                self.bnstd_running = (1-self.momentum) * self.bnstd_running + self.momentum * std_i\n",
    "        else:\n",
    "            mean_i = self.bnmean_running\n",
    "            std_i = self.bnstd_running\n",
    "\n",
    "        X_norm = (X - mean_i) / (std_i + self.eps)\n",
    "        self.out = X_norm * self.bngain + self.bnbias\n",
    "        return self.out\n",
    "    \n",
    "    def parameters(self):\n",
    "        return [self.bngain, self.bnbias]\n"
   ]
  },
  {
   "cell_type": "code",
   "execution_count": 21,
   "metadata": {},
   "outputs": [
    {
     "data": {
      "text/plain": [
       "['lwqflefdij',\n",
       " 'lewgbzfwyd',\n",
       " 'dyhhiscsen',\n",
       " 'scvmqvxplx',\n",
       " 'cigv',\n",
       " 'pdfrnotzpt',\n",
       " 'ntxpqadcvj',\n",
       " 'syfskiewwn',\n",
       " 'kkryisxhxw',\n",
       " '']"
      ]
     },
     "execution_count": 21,
     "metadata": {},
     "output_type": "execute_result"
    }
   ],
   "source": [
    "# Hyper Parameters\n",
    "g = torch.Generator(device=default_device).manual_seed(2147483627)\n",
    "feature_dim = 30\n",
    "n_hidden = 200\n",
    "# learning_rate = 0.1\n",
    "minibatch_size = 100\n",
    "\n",
    "lossi_tr = []\n",
    "lossi_cv = []\n",
    "\n",
    "n_consecutive = 2\n",
    "\n",
    "vocab_len = len(vocab)\n",
    "input_dim = n_consecutive * feature_dim\n",
    "\n",
    "# Define Model\n",
    "# model = M.Model(len(vocab), feature_dim, n_hidden, context_length, d=default_device)\n",
    "model = M.Sequential(\n",
    "    M.Embedding(vocab_len, feature_dim, d=default_device),\n",
    "    # M.Flatten(input_dim),\n",
    "\n",
    "    FlattenConsecutive(n_consecutive),\n",
    "    M.Linear(n_consecutive * feature_dim, n_hidden, d=default_device, bias=False, gain=(5/3), scale_factor=(1/math.sqrt(input_dim))),\n",
    "    BatchNorm1dUpdated(n_hidden, d=default_device),\n",
    "    M.Tanh(),\n",
    "\n",
    "    FlattenConsecutive(n_consecutive),\n",
    "    M.Linear(n_hidden*n_consecutive, n_hidden, d=default_device, bias=False, gain=(5/3), scale_factor=(1/math.sqrt(input_dim))),\n",
    "    BatchNorm1dUpdated(n_hidden, d=default_device),\n",
    "    M.Tanh(),\n",
    "\n",
    "    FlattenConsecutive(n_consecutive),\n",
    "    M.Linear(n_hidden*n_consecutive, n_hidden, d=default_device, bias=False, gain=(5/3), scale_factor=(1/math.sqrt(input_dim))),\n",
    "    BatchNorm1dUpdated(n_hidden, d=default_device),\n",
    "    M.Tanh(),\n",
    "\n",
    "    M.Linear(n_hidden, vocab_len, d=default_device, gain=1.0, bias=False, scale_factor=0.01)\n",
    ")\n",
    "\n",
    "\n",
    "\n",
    "for p in model.parameters():\n",
    "    p.requires_grad = True\n",
    "\n",
    "# Generate Words before Training Loop\n",
    "words = M.generate(model, \n",
    "                 encode_func=encode, \n",
    "                 decode_func=decode, \n",
    "                 start_ch=\".\", \n",
    "                 context_length=context_length, \n",
    "                 count=10, \n",
    "                 max_char=10,\n",
    "                 d=default_device)\n",
    "words"
   ]
  },
  {
   "cell_type": "markdown",
   "metadata": {},
   "source": [
    "#### Training Loop"
   ]
  },
  {
   "cell_type": "code",
   "execution_count": 25,
   "metadata": {},
   "outputs": [
    {
     "name": "stdout",
     "output_type": "stream",
     "text": [
      "Epoch:0 Training Loss: 1.9143626642227174\t Validation Loss:2.247408195734024\n",
      "Epoch:1000 Training Loss: 1.9273619055747986\t Validation Loss:2.260010050535202\n",
      "Epoch:2000 Training Loss: 1.942357610464096\t Validation Loss:2.277731705904007\n",
      "Epoch:3000 Training Loss: 1.96159313082695\t Validation Loss:2.2197222828865053\n",
      "Epoch:4000 Training Loss: 1.9270132660865784\t Validation Loss:2.2618879413604738\n",
      "Epoch:5000 Training Loss: 1.9285869097709656\t Validation Loss:2.2799216639995574\n",
      "Epoch:6000 Training Loss: 1.9274981486797333\t Validation Loss:2.2747770285606386\n",
      "Epoch:7000 Training Loss: 1.9226711583137512\t Validation Loss:2.2790598559379576\n",
      "Epoch:8000 Training Loss: 1.9383739423751831\t Validation Loss:2.244449261426926\n",
      "Epoch:9000 Training Loss: 1.933935489654541\t Validation Loss:2.2653877782821654\n"
     ]
    },
    {
     "data": {
      "image/png": "[encoded data removed]",
      "text/plain": [
       "<Figure size 640x480 with 1 Axes>"
      ]
     },
     "metadata": {},
     "output_type": "display_data"
    }
   ],
   "source": [
    "epochs = 10000\n",
    "learning_rate = 0.0001\n",
    "\n",
    "for epoch in range(epochs):\n",
    "\n",
    "    # Minibatch\n",
    "    ix = torch.randint(Xtr.shape[0], size=(minibatch_size,), device=default_device, generator=g)\n",
    "    X, Y = Xtr[ix], Ytr[ix]\n",
    "\n",
    "    # Forward Pass\n",
    "    model.train()\n",
    "    logits = model(X)\n",
    "\n",
    "    # Loss \n",
    "    loss = F.cross_entropy(logits, Y)\n",
    "    if epoch % 1000 == 0:\n",
    "        model.eval()\n",
    "        lossi_tr.append(M.estimateError(Xtr, Ytr, model))\n",
    "        lossi_cv.append(M.estimateError(Xcv, Ycv, model))\n",
    "        print(f\"Epoch:{epoch} Training Loss: {lossi_tr[-1]}\\t Validation Loss:{lossi_cv[-1]}\")\n",
    "        model.train()\n",
    "\n",
    "    # Zero Grad\n",
    "    for p in model.parameters():\n",
    "        p.grad = None\n",
    "\n",
    "    # Backward Pass\n",
    "    loss.backward()\n",
    "    \n",
    "    # Update Weight\n",
    "    for p in model.parameters():\n",
    "        p.data -= learning_rate * p.grad\n",
    "\n",
    "plt.plot(lossi_tr, label=\"Train Loss\")\n",
    "plt.plot(lossi_cv, label=\"Validation Loss\")\n",
    "plt.legend(loc=\"upper right\")\n",
    "plt.show()"
   ]
  },
  {
   "cell_type": "code",
   "execution_count": 26,
   "metadata": {},
   "outputs": [
    {
     "data": {
      "text/plain": [
       "['krayn',\n",
       " 'sathrry',\n",
       " 'tillina',\n",
       " 'haleel',\n",
       " 'getten',\n",
       " 'alleena',\n",
       " 'asia',\n",
       " 'ziyand',\n",
       " 'lillyanna',\n",
       " 'emila']"
      ]
     },
     "execution_count": 26,
     "metadata": {},
     "output_type": "execute_result"
    }
   ],
   "source": [
    "words = M.generate(model, \n",
    "                 encode_func=encode, \n",
    "                 decode_func=decode, \n",
    "                 start_ch=\".\", \n",
    "                 context_length=context_length, \n",
    "                 count=10, \n",
    "                 max_char=10,\n",
    "                 d=default_device)\n",
    "\n",
    "words"
   ]
  }
 ],
 "metadata": {
  "kernelspec": {
   "display_name": "base",
   "language": "python",
   "name": "python3"
  },
  "language_info": {
   "codemirror_mode": {
    "name": "ipython",
    "version": 3
   },
   "file_extension": ".py",
   "mimetype": "text/x-python",
   "name": "python",
   "nbconvert_exporter": "python",
   "pygments_lexer": "ipython3",
   "version": "3.12.3"
  }
 },
 "nbformat": 4,
 "nbformat_minor": 2
}
