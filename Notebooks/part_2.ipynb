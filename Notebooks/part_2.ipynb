{
 "cells": [
  {
   "cell_type": "markdown",
   "metadata": {},
   "source": [
    "## Part II : Creating a single layer neural net manually"
   ]
  },
  {
   "cell_type": "code",
   "execution_count": 31,
   "metadata": {},
   "outputs": [
    {
     "name": "stdout",
     "output_type": "stream",
     "text": [
      "Exception reporting mode: Plain\n",
      "e:\\Karpathy-Makemore\n"
     ]
    }
   ],
   "source": [
    "import math\n",
    "import torch\n",
    "import torch.nn.functional as F\n",
    "import matplotlib.pyplot as plt\n",
    "\n",
    "# excetions show up normally\n",
    "%xmode plain\n",
    "\n",
    "# plots show up inline\n",
    "%matplotlib inline\n",
    "\n",
    "def get_device(no_gpu=False):\n",
    "    \"\"\"\n",
    "    Returns one of cuda / mps / cpu based on availablity\n",
    "    \"\"\"\n",
    "    if no_gpu is True:\n",
    "        return torch.device(\"cpu\")\n",
    "    elif torch.cuda.is_available():\n",
    "        return torch.device(\"cuda\")\n",
    "    elif torch.backends.mps.is_available():\n",
    "        return torch.device(\"mps\")\n",
    "    else:\n",
    "        return torch.device(\"cpu\")\n",
    "\n",
    "\n",
    "# Choose the default device\n",
    "no_gpu = False\n",
    "default_device = get_device(no_gpu)\n",
    "\n",
    "\n",
    "# Needed to import modules from src\n",
    "import sys\n",
    "sys.path.append('..')\n",
    "\n",
    "\n",
    "# Get Project Root (needed for reading config)\n",
    "import os\n",
    "projectRoot = os.path.dirname(os.getcwd())\n",
    "print(projectRoot)"
   ]
  },
  {
   "cell_type": "markdown",
   "metadata": {},
   "source": [
    "#### Load Data"
   ]
  },
  {
   "cell_type": "code",
   "execution_count": 32,
   "metadata": {},
   "outputs": [
    {
     "name": "stdout",
     "output_type": "stream",
     "text": [
      "Vocab Size: 27\n"
     ]
    },
    {
     "data": {
      "text/plain": [
       "['emma',\n",
       " 'olivia',\n",
       " 'ava',\n",
       " 'isabella',\n",
       " 'sophia',\n",
       " 'charlotte',\n",
       " 'mia',\n",
       " 'amelia',\n",
       " 'harper',\n",
       " 'evelyn']"
      ]
     },
     "execution_count": 32,
     "metadata": {},
     "output_type": "execute_result"
    }
   ],
   "source": [
    "from src.loadData import get_everything, start_ch\n",
    "all_data, vocab, stoi, itos = get_everything(projectRoot)\n",
    "\n",
    "print(f\"Vocab Size: {len(vocab)}\")\n",
    "all_data[:10]"
   ]
  },
  {
   "cell_type": "markdown",
   "metadata": {},
   "source": [
    "#### Create Training Samples"
   ]
  },
  {
   "cell_type": "code",
   "execution_count": 33,
   "metadata": {},
   "outputs": [],
   "source": [
    "xs, ys = [],  []\n",
    "\n",
    "for name in all_data:\n",
    "    annotated_name = [start_ch] + list(name) + [start_ch]\n",
    "    for c1, c2 in zip(annotated_name, annotated_name[1:]):\n",
    "        xs.append(stoi[c1])\n",
    "        ys.append(stoi[c2])\n",
    "\n",
    "xs, ys = torch.tensor(xs, device=default_device), torch.tensor(ys, device=default_device)"
   ]
  },
  {
   "cell_type": "markdown",
   "metadata": {},
   "source": [
    "#### Use One Hot Encoding on xs to make it pluggable to the NN"
   ]
  },
  {
   "cell_type": "code",
   "execution_count": 34,
   "metadata": {},
   "outputs": [
    {
     "name": "stdout",
     "output_type": "stream",
     "text": [
      "X shape:torch.Size([228146, 27])\n"
     ]
    },
    {
     "data": {
      "text/plain": [
       "tensor([[1., 0., 0., 0., 0., 0., 0., 0., 0., 0., 0., 0., 0., 0., 0., 0., 0., 0.,\n",
       "         0., 0., 0., 0., 0., 0., 0., 0., 0.],\n",
       "        [0., 0., 0., 0., 0., 1., 0., 0., 0., 0., 0., 0., 0., 0., 0., 0., 0., 0.,\n",
       "         0., 0., 0., 0., 0., 0., 0., 0., 0.],\n",
       "        [0., 0., 0., 0., 0., 0., 0., 0., 0., 0., 0., 0., 0., 1., 0., 0., 0., 0.,\n",
       "         0., 0., 0., 0., 0., 0., 0., 0., 0.],\n",
       "        [0., 0., 0., 0., 0., 0., 0., 0., 0., 0., 0., 0., 0., 1., 0., 0., 0., 0.,\n",
       "         0., 0., 0., 0., 0., 0., 0., 0., 0.],\n",
       "        [0., 1., 0., 0., 0., 0., 0., 0., 0., 0., 0., 0., 0., 0., 0., 0., 0., 0.,\n",
       "         0., 0., 0., 0., 0., 0., 0., 0., 0.]], device='cuda:0')"
      ]
     },
     "execution_count": 34,
     "metadata": {},
     "output_type": "execute_result"
    }
   ],
   "source": [
    "X = F.one_hot(xs, num_classes=len(vocab)).float()\n",
    "print(f\"X shape:{X.shape}\")\n",
    "X[:5, :]"
   ]
  },
  {
   "cell_type": "markdown",
   "metadata": {},
   "source": [
    "## Single Layer NN\n",
    "\n",
    "#### Create the weights"
   ]
  },
  {
   "cell_type": "code",
   "execution_count": 60,
   "metadata": {},
   "outputs": [],
   "source": [
    "g = torch.Generator(device=default_device).manual_seed(2147483647)\n",
    "\n",
    "W = torch.randn(len(vocab), len(vocab), device=default_device, generator=g)\n",
    "b = torch.randn(len(vocab), device=default_device, generator=g)\n",
    "\n",
    "learning_rate = 0.1\n",
    "minibatch_size = 1000\n",
    "lossi = []\n",
    "\n",
    "parameters = [W, b]\n",
    "for p in parameters:\n",
    "    p.requires_grad = True"
   ]
  },
  {
   "cell_type": "markdown",
   "metadata": {},
   "source": [
    "#### NN training Loop (using minibatches and softmax, NO tanh or an activation function)"
   ]
  },
  {
   "cell_type": "code",
   "execution_count": 61,
   "metadata": {},
   "outputs": [
    {
     "name": "stdout",
     "output_type": "stream",
     "text": [
      "epoch:0 \t loss: 6.2238287925720215\n",
      "epoch:1000 \t loss: 3.673457384109497\n",
      "epoch:2000 \t loss: 3.3410048484802246\n",
      "epoch:3000 \t loss: 3.152890205383301\n",
      "epoch:4000 \t loss: 3.0996384620666504\n",
      "epoch:5000 \t loss: 3.05730938911438\n",
      "epoch:6000 \t loss: 3.0494396686553955\n",
      "epoch:7000 \t loss: 3.066816568374634\n",
      "epoch:8000 \t loss: 2.9954073429107666\n",
      "epoch:9000 \t loss: 3.0059876441955566\n",
      "epoch:10000 \t loss: 3.019606113433838\n",
      "epoch:11000 \t loss: 3.0275237560272217\n",
      "epoch:12000 \t loss: 3.021897077560425\n",
      "epoch:13000 \t loss: 3.013688564300537\n",
      "epoch:14000 \t loss: 3.0649428367614746\n",
      "epoch:15000 \t loss: 3.0443625450134277\n",
      "epoch:16000 \t loss: 3.014890432357788\n",
      "epoch:17000 \t loss: 3.016953945159912\n",
      "epoch:18000 \t loss: 3.0466935634613037\n",
      "epoch:19000 \t loss: 3.001441240310669\n",
      "CPU times: total: 17.2 s\n",
      "Wall time: 17.4 s\n"
     ]
    }
   ],
   "source": [
    "%%time\n",
    "\n",
    "epochs = 20000\n",
    "for epoch in range(epochs):\n",
    "\n",
    "    # Create Minibatch\n",
    "    ix = torch.randint(high=X.shape[0], size=(minibatch_size,), generator=g, device=default_device)\n",
    "    Xtr = X[ix]\n",
    "    Ytr = ys[ix]\n",
    "\n",
    "    # Forward Pass\n",
    "    logits = Xtr @ W + b\n",
    "    \n",
    "    # softmax step\n",
    "    counts = torch.exp(logits)\n",
    "    probs = counts / counts.sum(dim=1, keepdim=True)\n",
    "\n",
    "    # Negative Log likelihood loss\n",
    "    loss = (-1) * torch.log(probs[:, Ytr]).mean() \n",
    "\n",
    "    # Added regularization\n",
    "    loss += ((W ** 2).mean() + (b **2).mean())\n",
    "\n",
    "    if epoch % 1000 == 0:\n",
    "        print(f\"epoch:{epoch} \\t loss: {loss.item()}\")\n",
    "\n",
    "    lossi.append(loss.item())\n",
    "\n",
    "    # Zero Grad\n",
    "    for p in parameters:\n",
    "        p.grad = None\n",
    "\n",
    "    # Backward Pass\n",
    "    loss.backward()\n",
    "\n",
    "    # Update params\n",
    "    for p in parameters:\n",
    "        p.data -= (learning_rate * p.grad)\n"
   ]
  },
  {
   "cell_type": "markdown",
   "metadata": {},
   "source": [
    "#### Plot training error (averaged over 100 iterations)"
   ]
  },
  {
   "cell_type": "code",
   "execution_count": 62,
   "metadata": {},
   "outputs": [
    {
     "data": {
      "image/png": "[encoded data removed]",
      "text/plain": [
       "<Figure size 640x480 with 1 Axes>"
      ]
     },
     "metadata": {},
     "output_type": "display_data"
    }
   ],
   "source": [
    "plt.plot(torch.tensor(lossi).view(-1, 100).mean(1))\n",
    "plt.show()"
   ]
  }
 ],
 "metadata": {
  "kernelspec": {
   "display_name": "base",
   "language": "python",
   "name": "python3"
  },
  "language_info": {
   "codemirror_mode": {
    "name": "ipython",
    "version": 3
   },
   "file_extension": ".py",
   "mimetype": "text/x-python",
   "name": "python",
   "nbconvert_exporter": "python",
   "pygments_lexer": "ipython3",
   "version": "3.12.3"
  }
 },
 "nbformat": 4,
 "nbformat_minor": 2
}
