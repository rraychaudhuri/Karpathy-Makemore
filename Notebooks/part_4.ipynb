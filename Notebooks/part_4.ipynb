{
 "cells": [
  {
   "cell_type": "markdown",
   "metadata": {},
   "source": [
    "## Part IV : Improved initialization and Batch Normalization"
   ]
  },
  {
   "cell_type": "code",
   "execution_count": 22,
   "metadata": {},
   "outputs": [
    {
     "name": "stdout",
     "output_type": "stream",
     "text": [
      "Exception reporting mode: Plain\n",
      "e:\\Karpathy-Makemore\n"
     ]
    }
   ],
   "source": [
    "import math\n",
    "import torch\n",
    "import torch.nn.functional as F\n",
    "import matplotlib.pyplot as plt\n",
    "\n",
    "# excetions show up normally\n",
    "%xmode plain\n",
    "\n",
    "# plots show up inline\n",
    "%matplotlib inline\n",
    "\n",
    "def get_device(no_gpu=False):\n",
    "    \"\"\"\n",
    "    Returns one of cuda / mps / cpu based on availablity\n",
    "    \"\"\"\n",
    "    if no_gpu is True:\n",
    "        return torch.device(\"cpu\")\n",
    "    elif torch.cuda.is_available():\n",
    "        return torch.device(\"cuda\")\n",
    "    elif torch.backends.mps.is_available():\n",
    "        return torch.device(\"mps\")\n",
    "    else:\n",
    "        return torch.device(\"cpu\")\n",
    "\n",
    "\n",
    "# Choose the default device\n",
    "no_gpu = False\n",
    "default_device = get_device(no_gpu)\n",
    "\n",
    "\n",
    "# Needed to import modules from src\n",
    "import sys\n",
    "sys.path.append('..')\n",
    "\n",
    "\n",
    "# Get Project Root (needed for reading config)\n",
    "import os\n",
    "projectRoot = os.path.dirname(os.getcwd())\n",
    "print(projectRoot)"
   ]
  },
  {
   "cell_type": "markdown",
   "metadata": {},
   "source": [
    "#### Load Data and associated functions"
   ]
  },
  {
   "cell_type": "code",
   "execution_count": 23,
   "metadata": {},
   "outputs": [
    {
     "name": "stdout",
     "output_type": "stream",
     "text": [
      "Vocab Length:27\n",
      "Encode test: [5, 13, 13, 1]\tDecode test: emma\n",
      "Name Counts ==> All:32033\tTrain:25627\t Validation:3203\tTest: 3203 \n"
     ]
    }
   ],
   "source": [
    "from src.loadData import loadData\n",
    "import src.utils as utils\n",
    "\n",
    "all_data = loadData(projectRoot)\n",
    "vocab = utils.get_vocab(all_data)\n",
    "print(f\"Vocab Length:{len(vocab)}\")\n",
    "\n",
    "encode, decode = utils.get_encode_decode(vocab)\n",
    "print(f\"Encode test: {encode(\"emma\")}\\tDecode test: {decode(encode(\"emma\"))}\")\n",
    "# print(f\"Encode test: {encode(\"e\")}\\tDecode test: {decode(encode(\"e\"))}\")\n",
    "\n",
    "train_percentage = 0.8\n",
    "train_boundary = math.ceil(len(all_data) * train_percentage)\n",
    "\n",
    "cv_percentage = train_percentage + 0.1\n",
    "cv_boundary = math.ceil(len(all_data) * cv_percentage)\n",
    "\n",
    "train_data = all_data[:train_boundary]\n",
    "cv_data = all_data[train_boundary:cv_boundary]\n",
    "test_data = all_data[cv_boundary:]\n",
    "\n",
    "print(f\"Name Counts ==> All:{len(all_data)}\\tTrain:{len(train_data)}\\t Validation:{len(cv_data)}\\tTest: {len(test_data)} \")"
   ]
  },
  {
   "cell_type": "markdown",
   "metadata": {},
   "source": [
    "#### Create samples from Data"
   ]
  },
  {
   "cell_type": "code",
   "execution_count": 24,
   "metadata": {},
   "outputs": [
    {
     "name": "stdout",
     "output_type": "stream",
     "text": [
      "Sample Sizes ==> Training:157157\tValidation:19429\tTest:19527\n"
     ]
    }
   ],
   "source": [
    "context_length = 3\n",
    "\n",
    "xtr, ytr = utils.get_samples(train_data, encode, context_size=context_length)\n",
    "Xtr, Ytr = torch.tensor(xtr, device=default_device), torch.tensor(ytr, device=default_device)\n",
    "\n",
    "xcv, ycv = utils.get_samples(cv_data, encode, context_size=context_length)\n",
    "Xcv, Ycv = torch.tensor(xcv, device=default_device), torch.tensor(ycv, device=default_device)\n",
    "\n",
    "xtest, ytest = utils.get_samples(test_data, encode, context_size=context_length)\n",
    "Xtest, Ytest = torch.tensor(xtest, device=default_device), torch.tensor(ytest, device=default_device)\n",
    "\n",
    "print(f\"Sample Sizes ==> Training:{Xtr.shape[0]}\\tValidation:{Xcv.shape[0]}\\tTest:{Xtest.shape[0]}\")"
   ]
  },
  {
   "cell_type": "markdown",
   "metadata": {},
   "source": [
    "#### Normal Initialization of the NN Params as was done in Part III"
   ]
  },
  {
   "cell_type": "code",
   "execution_count": 69,
   "metadata": {},
   "outputs": [],
   "source": [
    "g = torch.Generator(device=default_device).manual_seed(2147483627)\n",
    "\n",
    "# Projecting each character to 2 dimensional space \n",
    "feature_dim = 100\n",
    "\n",
    "# Number of units in the hidden layer\n",
    "n_hidden = 200\n",
    "\n",
    "input_dim = context_length * feature_dim \n",
    "output_dim = len(vocab)\n",
    "\n",
    "# Project to this feature space\n",
    "C = torch.randn(len(vocab), feature_dim,                    device=default_device, generator=g)\n",
    "\n",
    "# Hidden layer\n",
    "W1 = torch.randn(input_dim, n_hidden,                       device=default_device, generator=g)\n",
    "b1 = torch.randn(n_hidden,                                  device=default_device, generator=g)\n",
    "\n",
    "# Output layer\n",
    "W2 = torch.randn(n_hidden, output_dim,                      device=default_device, generator=g)\n",
    "b2 = torch.randn(output_dim,                                device=default_device, generator=g)\n",
    "\n",
    "parameters = [C, W1, b1, W2, b2]\n",
    "for p in parameters:\n",
    "    p.requires_grad = True\n",
    "\n",
    "learning_rate = 0.1\n",
    "minibatch_size = 500\n",
    "lossi_tr = []\n",
    "lossi_cv = []"
   ]
  },
  {
   "cell_type": "markdown",
   "metadata": {},
   "source": [
    "#### Training loop single iteration\n",
    "\n",
    "After Random Initialization we always get a very high initial loss."
   ]
  },
  {
   "cell_type": "code",
   "execution_count": 70,
   "metadata": {},
   "outputs": [
    {
     "name": "stdout",
     "output_type": "stream",
     "text": [
      "30.621932983398438\n"
     ]
    }
   ],
   "source": [
    "def forwardPass():\n",
    "    # Minibatch\n",
    "    ix = torch.randint(Xtr.shape[0], (minibatch_size,), device=default_device)\n",
    "    X, Y = Xtr[ix], Ytr[ix]\n",
    "\n",
    "    # Encode / Project\n",
    "    Xenc = C[X]\n",
    "\n",
    "    # Flatten\n",
    "    Xenc_flattened = Xenc.view(-1, input_dim)\n",
    "\n",
    "    # Linear_1 + Activation\n",
    "    hpreact = Xenc_flattened @ W1 + b1\n",
    "    h = torch.tanh(hpreact)\n",
    "\n",
    "    # Linear_2\n",
    "    logits = h @ W2 + b2\n",
    "\n",
    "    return hpreact, h, logits, Y, F.cross_entropy(logits, Y)\n",
    "\n",
    "hpreact, h, logits, Y, loss = forwardPass()\n",
    "print(loss.item())"
   ]
  },
  {
   "cell_type": "markdown",
   "metadata": {},
   "source": [
    "## Improving Network Intialization\n",
    "\n",
    "\n",
    "#### Scaling down the weights of the outer layer\n",
    "\n",
    "Below it is shown that if the value of the logits are scaled up then the cross entropy loss increases significantly. The reason for this exponentiation of the logits in the softmax phase. **Exponentiation always tends to exaggerate the differences.** "
   ]
  },
  {
   "cell_type": "code",
   "execution_count": 71,
   "metadata": {},
   "outputs": [
    {
     "name": "stdout",
     "output_type": "stream",
     "text": [
      "Loss (should match the loss from F.cross_entropy): 30.621931076049805\n",
      "-----------------------------------------------------------------------------\n",
      "Test showing if logits are just scaled up, cross entropy loss increases\n",
      "\n",
      "Loss when logits are random numbers:\t 1.9154047966003418\n",
      "Loss when logits multiplied by 5:\t 5.62797212600708\n",
      "Loss when logits multiplied by 50:\t 50.615116119384766\n"
     ]
    }
   ],
   "source": [
    "def cross_entropy(logits, Y):\n",
    "    logits_exp = torch.exp(logits)\n",
    "    probs = logits_exp / logits_exp.sum(1, keepdim=True)\n",
    "\n",
    "    loss = (-1) * torch.log(probs[torch.arange(logits.shape[0]), Y])\n",
    "    return loss.mean()\n",
    "\n",
    "loss = cross_entropy(logits, Y)\n",
    "print(f\"Loss (should match the loss from F.cross_entropy): {loss.item()}\")\n",
    "\n",
    "print(\"-----------------------------------------------------------------------------\")\n",
    "print(\"Test showing if logits are just scaled up, cross entropy loss increases\\n\")\n",
    "\n",
    "# Test\n",
    "logits_test =  torch.randn(1, 4, device=default_device)\n",
    "Y_test = torch.tensor([[1]], device=default_device)\n",
    "\n",
    "# Logits used as is\n",
    "loss_test = cross_entropy(logits_test, Y_test)\n",
    "print(f\"Loss when logits are random numbers:\\t {loss_test.item()}\")\n",
    "\n",
    "# Logits are multiplied by 5\n",
    "loss_test = cross_entropy(logits_test * 5, Y_test)\n",
    "print(f\"Loss when logits multiplied by 5:\\t {loss_test.item()}\")\n",
    "\n",
    "# Logits are multiplied by 50\n",
    "loss_test = cross_entropy(logits_test * 50, Y_test)\n",
    "print(f\"Loss when logits multiplied by 50:\\t {loss_test.item()}\")"
   ]
  },
  {
   "cell_type": "markdown",
   "metadata": {},
   "source": [
    "Hence if we can scale down the logits and ensure that they are closer to each other, we should get a better initial loss. To achieve this:\n",
    "-   We can set the bias for the output layer to 0 since it is an additive term\n",
    "-   We can scale down the weights in the outer layer"
   ]
  },
  {
   "cell_type": "code",
   "execution_count": 72,
   "metadata": {},
   "outputs": [
    {
     "name": "stdout",
     "output_type": "stream",
     "text": [
      "Loss BEFORE scaling down the outer layer: \t29.615907669067383\n",
      "Loss AFTER scaling down the outer layer: \t4.258240222930908\n"
     ]
    }
   ],
   "source": [
    "hpreact, h, logits, Y, loss = forwardPass()\n",
    "print(f\"Loss BEFORE scaling down the outer layer: \\t{loss.item()}\")\n",
    "\n",
    "b2 = b2 * 0.0\n",
    "W2 = W2 * 0.1\n",
    "\n",
    "hpreact, h, logits, Y, loss = forwardPass()\n",
    "print(f\"Loss AFTER scaling down the outer layer: \\t{loss.item()}\")"
   ]
  },
  {
   "cell_type": "markdown",
   "metadata": {},
   "source": [
    "#### Kaiming He Paper : Scaling weights in the Input Layer\n",
    "\n",
    "As shown below the activations after tanh in the input layer is concentrated in the two extremes -1 and 1 (left figure). The reason for this is W1 is randomly sampled from a Normal distribution. Hence the hpreact resembles a Normal distribution (right figure).\n",
    "\n",
    "The most of the tanh activations are -1 or +1 then teh gradient of those neurones valishes (looking at the tanh plot, near 1 and -1 the plot almost becomes parallel to x axis hence zero gradient). As a result those neurones do not learn in that training iteration and probably this zero grad case prevents the loss gradient to proceed farther back (NOTE: This I need to check by hand)"
   ]
  },
  {
   "cell_type": "code",
   "execution_count": 73,
   "metadata": {},
   "outputs": [
    {
     "data": {
      "image/png": "[encoded data removed]",
      "text/plain": [
       "<Figure size 2000x500 with 2 Axes>"
      ]
     },
     "metadata": {},
     "output_type": "display_data"
    },
    {
     "name": "stdout",
     "output_type": "stream",
     "text": [
      "hpreact Mean:0.08202975988388062 \t std:17.334688186645508\n"
     ]
    }
   ],
   "source": [
    "def show_activation(row=1, bins=50):\n",
    "    plt.figure(figsize=(20, 5))\n",
    "    plt.subplot(121)\n",
    "    plt.hist(h[row,:].tolist(), bins=bins, density=True)\n",
    "    plt.title(\"Activation\")\n",
    "    plt.subplot(122)\n",
    "    plt.hist(hpreact[row,:].tolist(), bins=bins, density=True)\n",
    "    plt.title(\"hpreact\")\n",
    "    plt.show()\n",
    "    print(f\"hpreact Mean:{hpreact[row,:].mean(0).item()} \\t std:{hpreact[row,:].std(0).item()}\")\n",
    "\n",
    "show_activation(row=1)"
   ]
  },
  {
   "cell_type": "markdown",
   "metadata": {},
   "source": [
    "This [Kaiming He et al. Paper](https://arxiv.org/pdf/1502.01852v1) talks about how to scale the input layer. Basically it is a good practice to always scale W1 with the sqrt of the input dimension and add a gain multiplier. Based on [this link](https://pytorch.org/docs/stable/nn.init.html) the gain multiplier for tanh is 5/3. The reason for this gain is to compensate for the squashing of the values at the talk end of the activation function.\n",
    "\n",
    "Additionally we should also scale down b1 since a high value of hpreact will push the tanh to fire."
   ]
  },
  {
   "cell_type": "code",
   "execution_count": 75,
   "metadata": {},
   "outputs": [
    {
     "name": "stdout",
     "output_type": "stream",
     "text": [
      "Loss Before Kaiming Init:3.87701153755188\n",
      "Loss After Kaiming Init:3.3042373657226562\n"
     ]
    },
    {
     "data": {
      "image/png": "[encoded data removed]",
      "text/plain": [
       "<Figure size 2000x500 with 2 Axes>"
      ]
     },
     "metadata": {},
     "output_type": "display_data"
    },
    {
     "name": "stdout",
     "output_type": "stream",
     "text": [
      "hpreact Mean:0.011470787227153778 \t std:0.1577015370130539\n"
     ]
    }
   ],
   "source": [
    "hpreact, h, logits, Y, loss = forwardPass()\n",
    "print(f\"Loss Before Kaiming Init:{loss.item()}\")\n",
    "\n",
    "W1 = W1 * (5/3) / math.sqrt(input_dim)\n",
    "b1 = b1 * 0.01\n",
    "\n",
    "hpreact, h, logits, Y, loss = forwardPass()\n",
    "print(f\"Loss After Kaiming Init:{loss.item()}\")\n",
    "show_activation(row=1)\n"
   ]
  },
  {
   "cell_type": "markdown",
   "metadata": {},
   "source": [
    "After the above 2 modifications, it can be seen that the std in the tanh layer is roughly resembles a standard normal (0 mean and 1 std). It is mentioned in the lecture that after the introduction of normalization layer (batch norm, layer norm etc.) and advanced optimization technique like Adam the initialization has become less sensitive to final loss. "
   ]
  }
 ],
 "metadata": {
  "kernelspec": {
   "display_name": "base",
   "language": "python",
   "name": "python3"
  },
  "language_info": {
   "codemirror_mode": {
    "name": "ipython",
    "version": 3
   },
   "file_extension": ".py",
   "mimetype": "text/x-python",
   "name": "python",
   "nbconvert_exporter": "python",
   "pygments_lexer": "ipython3",
   "version": "3.12.3"
  }
 },
 "nbformat": 4,
 "nbformat_minor": 2
}
